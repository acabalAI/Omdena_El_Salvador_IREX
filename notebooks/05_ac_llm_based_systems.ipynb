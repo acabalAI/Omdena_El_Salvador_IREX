{
  "nbformat": 4,
  "nbformat_minor": 0,
  "metadata": {
    "colab": {
      "provenance": []
    },
    "kernelspec": {
      "name": "python3",
      "display_name": "Python 3"
    },
    "language_info": {
      "name": "python"
    },
    "widgets": {
      "application/vnd.jupyter.widget-state+json": {
        "cc6e53726604485baad595a6cb9009fc": {
          "model_module": "@jupyter-widgets/output",
          "model_name": "OutputModel",
          "model_module_version": "1.0.0",
          "state": {
            "_dom_classes": [],
            "_model_module": "@jupyter-widgets/output",
            "_model_module_version": "1.0.0",
            "_model_name": "OutputModel",
            "_view_count": null,
            "_view_module": "@jupyter-widgets/output",
            "_view_module_version": "1.0.0",
            "_view_name": "OutputView",
            "layout": "IPY_MODEL_58dd2a6a93ac4047abd5e089c98363d9",
            "msg_id": "",
            "outputs": [
              {
                "output_type": "display_data",
                "data": {
                  "text/plain": "\u001b[32m⠴\u001b[0m Waiting for authorization\n",
                  "text/html": "<pre style=\"white-space:pre;overflow-x:auto;line-height:normal;font-family:Menlo,'DejaVu Sans Mono',consolas,'Courier New',monospace\"><span style=\"color: #008000; text-decoration-color: #008000\">⠴</span> Waiting for authorization\n</pre>\n"
                },
                "metadata": {}
              }
            ]
          }
        },
        "58dd2a6a93ac4047abd5e089c98363d9": {
          "model_module": "@jupyter-widgets/base",
          "model_name": "LayoutModel",
          "model_module_version": "1.2.0",
          "state": {
            "_model_module": "@jupyter-widgets/base",
            "_model_module_version": "1.2.0",
            "_model_name": "LayoutModel",
            "_view_count": null,
            "_view_module": "@jupyter-widgets/base",
            "_view_module_version": "1.2.0",
            "_view_name": "LayoutView",
            "align_content": null,
            "align_items": null,
            "align_self": null,
            "border": null,
            "bottom": null,
            "display": null,
            "flex": null,
            "flex_flow": null,
            "grid_area": null,
            "grid_auto_columns": null,
            "grid_auto_flow": null,
            "grid_auto_rows": null,
            "grid_column": null,
            "grid_gap": null,
            "grid_row": null,
            "grid_template_areas": null,
            "grid_template_columns": null,
            "grid_template_rows": null,
            "height": null,
            "justify_content": null,
            "justify_items": null,
            "left": null,
            "margin": null,
            "max_height": null,
            "max_width": null,
            "min_height": null,
            "min_width": null,
            "object_fit": null,
            "object_position": null,
            "order": null,
            "overflow": null,
            "overflow_x": null,
            "overflow_y": null,
            "padding": null,
            "right": null,
            "top": null,
            "visibility": null,
            "width": null
          }
        }
      }
    }
  },
  "cells": [
    {
      "cell_type": "markdown",
      "source": [
        "#1-Libraries and Datasets"
      ],
      "metadata": {
        "id": "f0inKiN2W7ZM"
      }
    },
    {
      "cell_type": "code",
      "source": [
        "!pip install -q dagshub\n",
        "!pip install -q transformers einops accelerate langchain bitsandbytes\n",
        "!pip install OpenAI\n",
        "! pip install GoogleSearch\n",
        "! pip install serpapi\n",
        "! pip install google-search-results"
      ],
      "metadata": {
        "id": "xHrD4kb-fekR",
        "colab": {
          "base_uri": "https://localhost:8080/"
        },
        "outputId": "de6b7ee5-0edf-4a1a-9f60-bd858218300a"
      },
      "execution_count": 4,
      "outputs": [
        {
          "output_type": "stream",
          "name": "stdout",
          "text": [
            "\u001b[2K     \u001b[90m━━━━━━━━━━━━━━━━━━━━━━━━━━━━━━━━━━━━━━━━\u001b[0m \u001b[32m211.2/211.2 kB\u001b[0m \u001b[31m4.5 MB/s\u001b[0m eta \u001b[36m0:00:00\u001b[0m\n",
            "\u001b[?25h  Preparing metadata (setup.py) ... \u001b[?25l\u001b[?25hdone\n",
            "\u001b[2K     \u001b[90m━━━━━━━━━━━━━━━━━━━━━━━━━━━━━━━━━━━━━━━━\u001b[0m \u001b[32m71.5/71.5 kB\u001b[0m \u001b[31m6.4 MB/s\u001b[0m eta \u001b[36m0:00:00\u001b[0m\n",
            "\u001b[2K     \u001b[90m━━━━━━━━━━━━━━━━━━━━━━━━━━━━━━━━━━━━━━━━\u001b[0m \u001b[32m195.4/195.4 kB\u001b[0m \u001b[31m11.7 MB/s\u001b[0m eta \u001b[36m0:00:00\u001b[0m\n",
            "\u001b[2K     \u001b[90m━━━━━━━━━━━━━━━━━━━━━━━━━━━━━━━━━━━━━━━━\u001b[0m \u001b[32m238.4/238.4 kB\u001b[0m \u001b[31m13.3 MB/s\u001b[0m eta \u001b[36m0:00:00\u001b[0m\n",
            "\u001b[2K     \u001b[90m━━━━━━━━━━━━━━━━━━━━━━━━━━━━━━━━━━━━━━━━\u001b[0m \u001b[32m74.0/74.0 kB\u001b[0m \u001b[31m7.9 MB/s\u001b[0m eta \u001b[36m0:00:00\u001b[0m\n",
            "\u001b[2K     \u001b[90m━━━━━━━━━━━━━━━━━━━━━━━━━━━━━━━━━━━━━━━━\u001b[0m \u001b[32m139.3/139.3 kB\u001b[0m \u001b[31m13.6 MB/s\u001b[0m eta \u001b[36m0:00:00\u001b[0m\n",
            "\u001b[2K     \u001b[90m━━━━━━━━━━━━━━━━━━━━━━━━━━━━━━━━━━━━━━━━\u001b[0m \u001b[32m62.7/62.7 kB\u001b[0m \u001b[31m6.8 MB/s\u001b[0m eta \u001b[36m0:00:00\u001b[0m\n",
            "\u001b[2K     \u001b[90m━━━━━━━━━━━━━━━━━━━━━━━━━━━━━━━━━━━━━━━━\u001b[0m \u001b[32m69.6/69.6 kB\u001b[0m \u001b[31m6.7 MB/s\u001b[0m eta \u001b[36m0:00:00\u001b[0m\n",
            "\u001b[2K     \u001b[90m━━━━━━━━━━━━━━━━━━━━━━━━━━━━━━━━━━━━━━━━\u001b[0m \u001b[32m51.1/51.1 kB\u001b[0m \u001b[31m4.8 MB/s\u001b[0m eta \u001b[36m0:00:00\u001b[0m\n",
            "\u001b[2K     \u001b[90m━━━━━━━━━━━━━━━━━━━━━━━━━━━━━━━━━━━━━━━━\u001b[0m \u001b[32m12.0/12.0 MB\u001b[0m \u001b[31m28.5 MB/s\u001b[0m eta \u001b[36m0:00:00\u001b[0m\n",
            "\u001b[2K     \u001b[90m━━━━━━━━━━━━━━━━━━━━━━━━━━━━━━━━━━━━━━━━\u001b[0m \u001b[32m82.2/82.2 kB\u001b[0m \u001b[31m9.6 MB/s\u001b[0m eta \u001b[36m0:00:00\u001b[0m\n",
            "\u001b[2K     \u001b[90m━━━━━━━━━━━━━━━━━━━━━━━━━━━━━━━━━━━━━━━━\u001b[0m \u001b[32m49.4/49.4 kB\u001b[0m \u001b[31m5.2 MB/s\u001b[0m eta \u001b[36m0:00:00\u001b[0m\n",
            "\u001b[2K     \u001b[90m━━━━━━━━━━━━━━━━━━━━━━━━━━━━━━━━━━━━━━━━\u001b[0m \u001b[32m202.9/202.9 kB\u001b[0m \u001b[31m19.9 MB/s\u001b[0m eta \u001b[36m0:00:00\u001b[0m\n",
            "\u001b[2K     \u001b[90m━━━━━━━━━━━━━━━━━━━━━━━━━━━━━━━━━━━━━━━━\u001b[0m \u001b[32m54.5/54.5 kB\u001b[0m \u001b[31m6.1 MB/s\u001b[0m eta \u001b[36m0:00:00\u001b[0m\n",
            "\u001b[2K     \u001b[90m━━━━━━━━━━━━━━━━━━━━━━━━━━━━━━━━━━━━━━━━\u001b[0m \u001b[32m58.3/58.3 kB\u001b[0m \u001b[31m6.2 MB/s\u001b[0m eta \u001b[36m0:00:00\u001b[0m\n",
            "\u001b[?25h  Building wheel for fusepy (setup.py) ... \u001b[?25l\u001b[?25hdone\n",
            "\u001b[2K     \u001b[90m━━━━━━━━━━━━━━━━━━━━━━━━━━━━━━━━━━━━━━━━\u001b[0m \u001b[32m44.6/44.6 kB\u001b[0m \u001b[31m388.1 kB/s\u001b[0m eta \u001b[36m0:00:00\u001b[0m\n",
            "\u001b[2K     \u001b[90m━━━━━━━━━━━━━━━━━━━━━━━━━━━━━━━━━━━━━━━━\u001b[0m \u001b[32m290.1/290.1 kB\u001b[0m \u001b[31m6.2 MB/s\u001b[0m eta \u001b[36m0:00:00\u001b[0m\n",
            "\u001b[2K     \u001b[90m━━━━━━━━━━━━━━━━━━━━━━━━━━━━━━━━━━━━━━━━\u001b[0m \u001b[32m810.5/810.5 kB\u001b[0m \u001b[31m9.7 MB/s\u001b[0m eta \u001b[36m0:00:00\u001b[0m\n",
            "\u001b[2K     \u001b[90m━━━━━━━━━━━━━━━━━━━━━━━━━━━━━━━━━━━━━━━━\u001b[0m \u001b[32m102.2/102.2 MB\u001b[0m \u001b[31m6.7 MB/s\u001b[0m eta \u001b[36m0:00:00\u001b[0m\n",
            "\u001b[2K     \u001b[90m━━━━━━━━━━━━━━━━━━━━━━━━━━━━━━━━━━━━━━━━\u001b[0m \u001b[32m1.8/1.8 MB\u001b[0m \u001b[31m62.1 MB/s\u001b[0m eta \u001b[36m0:00:00\u001b[0m\n",
            "\u001b[2K     \u001b[90m━━━━━━━━━━━━━━━━━━━━━━━━━━━━━━━━━━━━━━━━\u001b[0m \u001b[32m269.1/269.1 kB\u001b[0m \u001b[31m22.1 MB/s\u001b[0m eta \u001b[36m0:00:00\u001b[0m\n",
            "\u001b[2K     \u001b[90m━━━━━━━━━━━━━━━━━━━━━━━━━━━━━━━━━━━━━━━━\u001b[0m \u001b[32m71.6/71.6 kB\u001b[0m \u001b[31m6.8 MB/s\u001b[0m eta \u001b[36m0:00:00\u001b[0m\n",
            "\u001b[2K     \u001b[90m━━━━━━━━━━━━━━━━━━━━━━━━━━━━━━━━━━━━━━━━\u001b[0m \u001b[32m53.0/53.0 kB\u001b[0m \u001b[31m4.7 MB/s\u001b[0m eta \u001b[36m0:00:00\u001b[0m\n",
            "\u001b[2K     \u001b[90m━━━━━━━━━━━━━━━━━━━━━━━━━━━━━━━━━━━━━━━━\u001b[0m \u001b[32m138.5/138.5 kB\u001b[0m \u001b[31m14.8 MB/s\u001b[0m eta \u001b[36m0:00:00\u001b[0m\n",
            "\u001b[2K     \u001b[90m━━━━━━━━━━━━━━━━━━━━━━━━━━━━━━━━━━━━━━━━\u001b[0m \u001b[32m23.7/23.7 MB\u001b[0m \u001b[31m52.5 MB/s\u001b[0m eta \u001b[36m0:00:00\u001b[0m\n",
            "\u001b[2K     \u001b[90m━━━━━━━━━━━━━━━━━━━━━━━━━━━━━━━━━━━━━━━━\u001b[0m \u001b[32m823.6/823.6 kB\u001b[0m \u001b[31m49.0 MB/s\u001b[0m eta \u001b[36m0:00:00\u001b[0m\n",
            "\u001b[2K     \u001b[90m━━━━━━━━━━━━━━━━━━━━━━━━━━━━━━━━━━━━━━━━\u001b[0m \u001b[32m14.1/14.1 MB\u001b[0m \u001b[31m73.2 MB/s\u001b[0m eta \u001b[36m0:00:00\u001b[0m\n",
            "\u001b[2K     \u001b[90m━━━━━━━━━━━━━━━━━━━━━━━━━━━━━━━━━━━━━━━━\u001b[0m \u001b[32m731.7/731.7 MB\u001b[0m \u001b[31m1.1 MB/s\u001b[0m eta \u001b[36m0:00:00\u001b[0m\n",
            "\u001b[2K     \u001b[90m━━━━━━━━━━━━━━━━━━━━━━━━━━━━━━━━━━━━━━━━\u001b[0m \u001b[32m410.6/410.6 MB\u001b[0m \u001b[31m2.7 MB/s\u001b[0m eta \u001b[36m0:00:00\u001b[0m\n",
            "\u001b[2K     \u001b[90m━━━━━━━━━━━━━━━━━━━━━━━━━━━━━━━━━━━━━━━━\u001b[0m \u001b[32m121.6/121.6 MB\u001b[0m \u001b[31m8.2 MB/s\u001b[0m eta \u001b[36m0:00:00\u001b[0m\n",
            "\u001b[2K     \u001b[90m━━━━━━━━━━━━━━━━━━━━━━━━━━━━━━━━━━━━━━━━\u001b[0m \u001b[32m56.5/56.5 MB\u001b[0m \u001b[31m10.6 MB/s\u001b[0m eta \u001b[36m0:00:00\u001b[0m\n",
            "\u001b[2K     \u001b[90m━━━━━━━━━━━━━━━━━━━━━━━━━━━━━━━━━━━━━━━━\u001b[0m \u001b[32m124.2/124.2 MB\u001b[0m \u001b[31m6.3 MB/s\u001b[0m eta \u001b[36m0:00:00\u001b[0m\n",
            "\u001b[2K     \u001b[90m━━━━━━━━━━━━━━━━━━━━━━━━━━━━━━━━━━━━━━━━\u001b[0m \u001b[32m196.0/196.0 MB\u001b[0m \u001b[31m5.1 MB/s\u001b[0m eta \u001b[36m0:00:00\u001b[0m\n",
            "\u001b[2K     \u001b[90m━━━━━━━━━━━━━━━━━━━━━━━━━━━━━━━━━━━━━━━━\u001b[0m \u001b[32m166.0/166.0 MB\u001b[0m \u001b[31m6.2 MB/s\u001b[0m eta \u001b[36m0:00:00\u001b[0m\n",
            "\u001b[2K     \u001b[90m━━━━━━━━━━━━━━━━━━━━━━━━━━━━━━━━━━━━━━━━\u001b[0m \u001b[32m99.1/99.1 kB\u001b[0m \u001b[31m10.8 MB/s\u001b[0m eta \u001b[36m0:00:00\u001b[0m\n",
            "\u001b[2K     \u001b[90m━━━━━━━━━━━━━━━━━━━━━━━━━━━━━━━━━━━━━━━━\u001b[0m \u001b[32m21.1/21.1 MB\u001b[0m \u001b[31m47.3 MB/s\u001b[0m eta \u001b[36m0:00:00\u001b[0m\n",
            "\u001b[?25hCollecting OpenAI\n",
            "  Downloading openai-1.14.2-py3-none-any.whl (262 kB)\n",
            "\u001b[2K     \u001b[90m━━━━━━━━━━━━━━━━━━━━━━━━━━━━━━━━━━━━━━━━\u001b[0m \u001b[32m262.4/262.4 kB\u001b[0m \u001b[31m4.8 MB/s\u001b[0m eta \u001b[36m0:00:00\u001b[0m\n",
            "\u001b[?25hRequirement already satisfied: anyio<5,>=3.5.0 in /usr/local/lib/python3.10/dist-packages (from OpenAI) (3.7.1)\n",
            "Requirement already satisfied: distro<2,>=1.7.0 in /usr/lib/python3/dist-packages (from OpenAI) (1.7.0)\n",
            "Requirement already satisfied: httpx<1,>=0.23.0 in /usr/local/lib/python3.10/dist-packages (from OpenAI) (0.23.3)\n",
            "Requirement already satisfied: pydantic<3,>=1.9.0 in /usr/local/lib/python3.10/dist-packages (from OpenAI) (2.6.4)\n",
            "Requirement already satisfied: sniffio in /usr/local/lib/python3.10/dist-packages (from OpenAI) (1.3.1)\n",
            "Requirement already satisfied: tqdm>4 in /usr/local/lib/python3.10/dist-packages (from OpenAI) (4.66.2)\n",
            "Requirement already satisfied: typing-extensions<5,>=4.7 in /usr/local/lib/python3.10/dist-packages (from OpenAI) (4.10.0)\n",
            "Requirement already satisfied: idna>=2.8 in /usr/local/lib/python3.10/dist-packages (from anyio<5,>=3.5.0->OpenAI) (3.6)\n",
            "Requirement already satisfied: exceptiongroup in /usr/local/lib/python3.10/dist-packages (from anyio<5,>=3.5.0->OpenAI) (1.2.0)\n",
            "Requirement already satisfied: certifi in /usr/local/lib/python3.10/dist-packages (from httpx<1,>=0.23.0->OpenAI) (2024.2.2)\n",
            "Requirement already satisfied: httpcore<0.17.0,>=0.15.0 in /usr/local/lib/python3.10/dist-packages (from httpx<1,>=0.23.0->OpenAI) (0.16.3)\n",
            "Requirement already satisfied: rfc3986[idna2008]<2,>=1.3 in /usr/local/lib/python3.10/dist-packages (from httpx<1,>=0.23.0->OpenAI) (1.5.0)\n",
            "Requirement already satisfied: annotated-types>=0.4.0 in /usr/local/lib/python3.10/dist-packages (from pydantic<3,>=1.9.0->OpenAI) (0.6.0)\n",
            "Requirement already satisfied: pydantic-core==2.16.3 in /usr/local/lib/python3.10/dist-packages (from pydantic<3,>=1.9.0->OpenAI) (2.16.3)\n",
            "Requirement already satisfied: h11<0.15,>=0.13 in /usr/local/lib/python3.10/dist-packages (from httpcore<0.17.0,>=0.15.0->httpx<1,>=0.23.0->OpenAI) (0.14.0)\n",
            "Installing collected packages: OpenAI\n",
            "Successfully installed OpenAI-1.14.2\n",
            "\u001b[31mERROR: Could not find a version that satisfies the requirement GoogleSearch (from versions: none)\u001b[0m\u001b[31m\n",
            "\u001b[0m\u001b[31mERROR: No matching distribution found for GoogleSearch\u001b[0m\u001b[31m\n",
            "\u001b[0mCollecting serpapi\n",
            "  Downloading serpapi-0.1.5-py2.py3-none-any.whl (10 kB)\n",
            "Requirement already satisfied: requests in /usr/local/lib/python3.10/dist-packages (from serpapi) (2.31.0)\n",
            "Requirement already satisfied: charset-normalizer<4,>=2 in /usr/local/lib/python3.10/dist-packages (from requests->serpapi) (3.3.2)\n",
            "Requirement already satisfied: idna<4,>=2.5 in /usr/local/lib/python3.10/dist-packages (from requests->serpapi) (3.6)\n",
            "Requirement already satisfied: urllib3<3,>=1.21.1 in /usr/local/lib/python3.10/dist-packages (from requests->serpapi) (2.0.7)\n",
            "Requirement already satisfied: certifi>=2017.4.17 in /usr/local/lib/python3.10/dist-packages (from requests->serpapi) (2024.2.2)\n",
            "Installing collected packages: serpapi\n",
            "Successfully installed serpapi-0.1.5\n",
            "Collecting google-search-results\n",
            "  Downloading google_search_results-2.4.2.tar.gz (18 kB)\n",
            "  Preparing metadata (setup.py) ... \u001b[?25l\u001b[?25hdone\n",
            "Requirement already satisfied: requests in /usr/local/lib/python3.10/dist-packages (from google-search-results) (2.31.0)\n",
            "Requirement already satisfied: charset-normalizer<4,>=2 in /usr/local/lib/python3.10/dist-packages (from requests->google-search-results) (3.3.2)\n",
            "Requirement already satisfied: idna<4,>=2.5 in /usr/local/lib/python3.10/dist-packages (from requests->google-search-results) (3.6)\n",
            "Requirement already satisfied: urllib3<3,>=1.21.1 in /usr/local/lib/python3.10/dist-packages (from requests->google-search-results) (2.0.7)\n",
            "Requirement already satisfied: certifi>=2017.4.17 in /usr/local/lib/python3.10/dist-packages (from requests->google-search-results) (2024.2.2)\n",
            "Building wheels for collected packages: google-search-results\n",
            "  Building wheel for google-search-results (setup.py) ... \u001b[?25l\u001b[?25hdone\n",
            "  Created wheel for google-search-results: filename=google_search_results-2.4.2-py3-none-any.whl size=32004 sha256=3b01bcd853ecd1f7ed50ae18f4ce8b3baa7502de59aab6bfcf1591e24bb80ac6\n",
            "  Stored in directory: /root/.cache/pip/wheels/d3/b2/c3/03302d12bb44a2cdff3c9371f31b72c0c4e84b8d2285eeac53\n",
            "Successfully built google-search-results\n",
            "Installing collected packages: google-search-results\n",
            "Successfully installed google-search-results-2.4.2\n"
          ]
        }
      ]
    },
    {
      "cell_type": "code",
      "source": [
        "import json\n",
        "import pickle\n",
        "import re\n",
        "from collections import Counter\n",
        "from typing import Any, List, Optional, Type, Union\n",
        "\n",
        "import numpy as np\n",
        "import pandas as pd\n",
        "import os\n",
        "import torch\n",
        "import torch.nn as nn\n",
        "from google.colab import drive\n",
        "from serpapi import GoogleSearch\n",
        "from sklearn.feature_extraction.text import TfidfVectorizer\n",
        "from sklearn.linear_model import LogisticRegression\n",
        "from sklearn.metrics import accuracy_score, precision_score, recall_score, f1_score\n",
        "from sklearn.model_selection import (StratifiedKFold, cross_val_score,\n",
        "                                     train_test_split)\n",
        "from sklearn.pipeline import make_pipeline\n",
        "from sklearn.preprocessing import MultiLabelBinarizer\n",
        "\n",
        "from langchain import LLMChain, OpenAI, PromptTemplate, SerpAPIWrapper\n",
        "from langchain.agents import (AgentExecutor, AgentType, LLMSingleActionAgent,\n",
        "                              Tool, initialize_agent, load_tools)\n",
        "from langchain.callbacks.manager import (AsyncCallbackManagerForToolRun,\n",
        "                                          CallbackManagerForToolRun)\n",
        "from langchain.chains import LLMChain, SequentialChain\n",
        "from langchain.llms import OpenAI\n",
        "from langchain.prompts import PromptTemplate, StringPromptTemplate\n",
        "from langchain.schema import AgentAction, AgentFinish\n",
        "from langchain.tools import BaseTool\n",
        "from langchain.utilities import (GoogleSearchAPIWrapper, GoogleSerperAPIWrapper,\n",
        "                                  WikipediaAPIWrapper)\n",
        "\n",
        "from sklearn.feature_extraction.text import TfidfVectorizer\n",
        "\n",
        "from sklearn.ensemble import RandomForestClassifier\n",
        "\n",
        "import numpy as np"
      ],
      "metadata": {
        "id": "PhG92ZxKUV9Q"
      },
      "execution_count": 6,
      "outputs": []
    },
    {
      "cell_type": "code",
      "source": [
        "from google.colab import userdata\n",
        "open_ai_key=userdata.get('OPENAI_API_KEY')\n",
        "serper_ai_key=userdata.get('SERPER_API_KEY')"
      ],
      "metadata": {
        "id": "MC8dDWCRhEnn"
      },
      "execution_count": 7,
      "outputs": []
    },
    {
      "cell_type": "code",
      "source": [
        "os.environ[\"OPENAI_API_KEY\"] = open_ai_key\n",
        "os.environ[\"SERPER_API_KEY\"] = serper_ai_key\n",
        "llm_35=OpenAI(temperature=0)"
      ],
      "metadata": {
        "id": "d6fgtJ4XhEnp",
        "colab": {
          "base_uri": "https://localhost:8080/"
        },
        "outputId": "42bcbefd-2bfe-4e91-fc49-f6ddc34966e6"
      },
      "execution_count": 8,
      "outputs": [
        {
          "output_type": "stream",
          "name": "stderr",
          "text": [
            "/usr/local/lib/python3.10/dist-packages/langchain_core/_api/deprecation.py:117: LangChainDeprecationWarning: The class `langchain_community.llms.openai.OpenAI` was deprecated in langchain-community 0.0.10 and will be removed in 0.2.0. An updated version of the class exists in the langchain-openai package and should be used instead. To use it run `pip install -U langchain-openai` and import as `from langchain_openai import OpenAI`.\n",
            "  warn_deprecated(\n"
          ]
        }
      ]
    },
    {
      "cell_type": "code",
      "source": [
        "from google.colab import drive\n",
        "drive.mount('/content/drive')\n"
      ],
      "metadata": {
        "colab": {
          "base_uri": "https://localhost:8080/"
        },
        "outputId": "9a2e0391-e36f-48e0-b58e-7fe2e5dc2fe9",
        "id": "r5n8WBhZhUaE"
      },
      "execution_count": 9,
      "outputs": [
        {
          "output_type": "stream",
          "name": "stdout",
          "text": [
            "Mounted at /content/drive\n"
          ]
        }
      ]
    },
    {
      "cell_type": "code",
      "source": [
        "file_path_train = '/content/drive/My Drive/Omdena/Fake_News_Spanish/development_fake_news_corpus_v1_0.xlsx'\n",
        "\n",
        "df_train = pd.read_excel(file_path_train)\n"
      ],
      "metadata": {
        "id": "wyIfDrt4hUaI"
      },
      "execution_count": 21,
      "outputs": []
    },
    {
      "cell_type": "markdown",
      "source": [
        "# 2-Machine Learning Baseline"
      ],
      "metadata": {
        "id": "mghJJ5ZBh86K"
      }
    },
    {
      "cell_type": "markdown",
      "source": [
        "#2.1 Bootstrapping Simulation"
      ],
      "metadata": {
        "id": "e-JorpuciBah"
      }
    },
    {
      "cell_type": "code",
      "source": [
        "def preprocess_text(text, remove_digits=True):\n",
        "    text = re.sub(r'\\W', ' ', str(text))\n",
        "    text = text.lower()\n",
        "    text = re.sub(r'\\s+', ' ', text)\n",
        "    if remove_digits:\n",
        "        text = re.sub(r'\\d', ' ', text)\n",
        "    return text.strip()\n"
      ],
      "metadata": {
        "id": "IpSjIi6Uj1Cr"
      },
      "execution_count": 30,
      "outputs": []
    },
    {
      "cell_type": "code",
      "source": [
        "from sklearn.base import BaseEstimator, TransformerMixin\n",
        "\n",
        "# Custom Transformer that applies the text preprocessing\n",
        "class TextPreprocessor(BaseEstimator, TransformerMixin):\n",
        "    def __init__(self, remove_digits=True):\n",
        "        self.remove_digits = remove_digits\n",
        "\n",
        "    def fit(self, X, y=None):\n",
        "        return self\n",
        "\n",
        "    def transform(self, X, y=None):\n",
        "      if isinstance(X, pd.Series):\n",
        "          return X.apply(lambda x: preprocess_text(x, self.remove_digits))\n",
        "      else:  # Handle other types like list\n",
        "          return [preprocess_text(x, self.remove_digits) for x in X]\n",
        "\n",
        "\n",
        "# Assuming `df_train` is your DataFrame containing 'Headline', 'Text', and 'Category' columns\n",
        "# We first combine 'Headline' and 'Text' into a 'total_text' column for simplicity\n",
        "df_train['total_text'] = df_train['Headline'] + ' ' + df_train['Text']\n",
        "\n",
        "# Setting up the pipeline\n",
        "ml_pipeline = make_pipeline(\n",
        "    TextPreprocessor(remove_digits=True),  # Set remove_digits=False if digits are important\n",
        "    TfidfVectorizer(max_features=5000),\n",
        "    RandomForestClassifier(n_estimators=100)\n",
        ")\n",
        "\n",
        "# Fit the pipeline on the entire dataset using the combined 'total_text' column\n",
        "ml_pipeline.fit(df_train['total_text'], df_train['Category'])\n"
      ],
      "metadata": {
        "id": "PSDJMBU2idkG",
        "colab": {
          "base_uri": "https://localhost:8080/",
          "height": 159
        },
        "outputId": "f1b3536c-9d49-414e-c981-ddc7a6dc9316"
      },
      "execution_count": 34,
      "outputs": [
        {
          "output_type": "execute_result",
          "data": {
            "text/plain": [
              "Pipeline(steps=[('textpreprocessor', TextPreprocessor()),\n",
              "                ('tfidfvectorizer', TfidfVectorizer(max_features=5000)),\n",
              "                ('randomforestclassifier', RandomForestClassifier())])"
            ],
            "text/html": [
              "<style>#sk-container-id-5 {color: black;background-color: white;}#sk-container-id-5 pre{padding: 0;}#sk-container-id-5 div.sk-toggleable {background-color: white;}#sk-container-id-5 label.sk-toggleable__label {cursor: pointer;display: block;width: 100%;margin-bottom: 0;padding: 0.3em;box-sizing: border-box;text-align: center;}#sk-container-id-5 label.sk-toggleable__label-arrow:before {content: \"▸\";float: left;margin-right: 0.25em;color: #696969;}#sk-container-id-5 label.sk-toggleable__label-arrow:hover:before {color: black;}#sk-container-id-5 div.sk-estimator:hover label.sk-toggleable__label-arrow:before {color: black;}#sk-container-id-5 div.sk-toggleable__content {max-height: 0;max-width: 0;overflow: hidden;text-align: left;background-color: #f0f8ff;}#sk-container-id-5 div.sk-toggleable__content pre {margin: 0.2em;color: black;border-radius: 0.25em;background-color: #f0f8ff;}#sk-container-id-5 input.sk-toggleable__control:checked~div.sk-toggleable__content {max-height: 200px;max-width: 100%;overflow: auto;}#sk-container-id-5 input.sk-toggleable__control:checked~label.sk-toggleable__label-arrow:before {content: \"▾\";}#sk-container-id-5 div.sk-estimator input.sk-toggleable__control:checked~label.sk-toggleable__label {background-color: #d4ebff;}#sk-container-id-5 div.sk-label input.sk-toggleable__control:checked~label.sk-toggleable__label {background-color: #d4ebff;}#sk-container-id-5 input.sk-hidden--visually {border: 0;clip: rect(1px 1px 1px 1px);clip: rect(1px, 1px, 1px, 1px);height: 1px;margin: -1px;overflow: hidden;padding: 0;position: absolute;width: 1px;}#sk-container-id-5 div.sk-estimator {font-family: monospace;background-color: #f0f8ff;border: 1px dotted black;border-radius: 0.25em;box-sizing: border-box;margin-bottom: 0.5em;}#sk-container-id-5 div.sk-estimator:hover {background-color: #d4ebff;}#sk-container-id-5 div.sk-parallel-item::after {content: \"\";width: 100%;border-bottom: 1px solid gray;flex-grow: 1;}#sk-container-id-5 div.sk-label:hover label.sk-toggleable__label {background-color: #d4ebff;}#sk-container-id-5 div.sk-serial::before {content: \"\";position: absolute;border-left: 1px solid gray;box-sizing: border-box;top: 0;bottom: 0;left: 50%;z-index: 0;}#sk-container-id-5 div.sk-serial {display: flex;flex-direction: column;align-items: center;background-color: white;padding-right: 0.2em;padding-left: 0.2em;position: relative;}#sk-container-id-5 div.sk-item {position: relative;z-index: 1;}#sk-container-id-5 div.sk-parallel {display: flex;align-items: stretch;justify-content: center;background-color: white;position: relative;}#sk-container-id-5 div.sk-item::before, #sk-container-id-5 div.sk-parallel-item::before {content: \"\";position: absolute;border-left: 1px solid gray;box-sizing: border-box;top: 0;bottom: 0;left: 50%;z-index: -1;}#sk-container-id-5 div.sk-parallel-item {display: flex;flex-direction: column;z-index: 1;position: relative;background-color: white;}#sk-container-id-5 div.sk-parallel-item:first-child::after {align-self: flex-end;width: 50%;}#sk-container-id-5 div.sk-parallel-item:last-child::after {align-self: flex-start;width: 50%;}#sk-container-id-5 div.sk-parallel-item:only-child::after {width: 0;}#sk-container-id-5 div.sk-dashed-wrapped {border: 1px dashed gray;margin: 0 0.4em 0.5em 0.4em;box-sizing: border-box;padding-bottom: 0.4em;background-color: white;}#sk-container-id-5 div.sk-label label {font-family: monospace;font-weight: bold;display: inline-block;line-height: 1.2em;}#sk-container-id-5 div.sk-label-container {text-align: center;}#sk-container-id-5 div.sk-container {/* jupyter's `normalize.less` sets `[hidden] { display: none; }` but bootstrap.min.css set `[hidden] { display: none !important; }` so we also need the `!important` here to be able to override the default hidden behavior on the sphinx rendered scikit-learn.org. See: https://github.com/scikit-learn/scikit-learn/issues/21755 */display: inline-block !important;position: relative;}#sk-container-id-5 div.sk-text-repr-fallback {display: none;}</style><div id=\"sk-container-id-5\" class=\"sk-top-container\"><div class=\"sk-text-repr-fallback\"><pre>Pipeline(steps=[(&#x27;textpreprocessor&#x27;, TextPreprocessor()),\n",
              "                (&#x27;tfidfvectorizer&#x27;, TfidfVectorizer(max_features=5000)),\n",
              "                (&#x27;randomforestclassifier&#x27;, RandomForestClassifier())])</pre><b>In a Jupyter environment, please rerun this cell to show the HTML representation or trust the notebook. <br />On GitHub, the HTML representation is unable to render, please try loading this page with nbviewer.org.</b></div><div class=\"sk-container\" hidden><div class=\"sk-item sk-dashed-wrapped\"><div class=\"sk-label-container\"><div class=\"sk-label sk-toggleable\"><input class=\"sk-toggleable__control sk-hidden--visually\" id=\"sk-estimator-id-10\" type=\"checkbox\" ><label for=\"sk-estimator-id-10\" class=\"sk-toggleable__label sk-toggleable__label-arrow\">Pipeline</label><div class=\"sk-toggleable__content\"><pre>Pipeline(steps=[(&#x27;textpreprocessor&#x27;, TextPreprocessor()),\n",
              "                (&#x27;tfidfvectorizer&#x27;, TfidfVectorizer(max_features=5000)),\n",
              "                (&#x27;randomforestclassifier&#x27;, RandomForestClassifier())])</pre></div></div></div><div class=\"sk-serial\"><div class=\"sk-item\"><div class=\"sk-estimator sk-toggleable\"><input class=\"sk-toggleable__control sk-hidden--visually\" id=\"sk-estimator-id-11\" type=\"checkbox\" ><label for=\"sk-estimator-id-11\" class=\"sk-toggleable__label sk-toggleable__label-arrow\">TextPreprocessor</label><div class=\"sk-toggleable__content\"><pre>TextPreprocessor()</pre></div></div></div><div class=\"sk-item\"><div class=\"sk-estimator sk-toggleable\"><input class=\"sk-toggleable__control sk-hidden--visually\" id=\"sk-estimator-id-12\" type=\"checkbox\" ><label for=\"sk-estimator-id-12\" class=\"sk-toggleable__label sk-toggleable__label-arrow\">TfidfVectorizer</label><div class=\"sk-toggleable__content\"><pre>TfidfVectorizer(max_features=5000)</pre></div></div></div><div class=\"sk-item\"><div class=\"sk-estimator sk-toggleable\"><input class=\"sk-toggleable__control sk-hidden--visually\" id=\"sk-estimator-id-13\" type=\"checkbox\" ><label for=\"sk-estimator-id-13\" class=\"sk-toggleable__label sk-toggleable__label-arrow\">RandomForestClassifier</label><div class=\"sk-toggleable__content\"><pre>RandomForestClassifier()</pre></div></div></div></div></div></div></div>"
            ]
          },
          "metadata": {},
          "execution_count": 34
        }
      ]
    },
    {
      "cell_type": "code",
      "source": [
        "# Example text that you want to classify\n",
        "headline_example = \"Aliens are coming\"\n",
        "text_example = \"Scientists have made a groundbreaking discovery in the field of space exploration, unveiling a new planet in a habitable zone.\"\n",
        "\n",
        "# Combine the headline and text into a single string, as done during training\n",
        "total_text_example = headline_example + \" \" + text_example\n",
        "\n",
        "# Use the pipeline to predict the category of this new example\n",
        "predicted_category = ml_pipeline.predict([total_text_example])\n",
        "predicted_probability = ml_pipeline.predict_proba([total_text_example])\n",
        "\n",
        "print(\"Predicted Category:\", predicted_category[0])\n",
        "print(\"Predicted Probability:\", predicted_probability[0][0])\n"
      ],
      "metadata": {
        "colab": {
          "base_uri": "https://localhost:8080/"
        },
        "id": "lcfX41v5kUH7",
        "outputId": "b7bf9fae-659c-4644-f516-fd5cf147dc20"
      },
      "execution_count": 39,
      "outputs": [
        {
          "output_type": "stream",
          "name": "stdout",
          "text": [
            "Predicted Category: Fake\n",
            "Predicted Probability: 0.57\n"
          ]
        }
      ]
    },
    {
      "cell_type": "markdown",
      "source": [
        "#3-Integrated System\n"
      ],
      "metadata": {
        "id": "yXIv9ufmqeKx"
      }
    },
    {
      "cell_type": "code",
      "source": [
        "# Info Extraction function\n",
        "def info_extraction(subject, topic, length=100, api_key=serper_ai_key, min_search=20):\n",
        "    # Define the mapping of topics to their prioritized sources\n",
        "    topic_priority_map = {\n",
        "        \"Politics\": {\n",
        "            \"POLITICAL PARTIES\": {\"name\": \"ACCIÓN CIUDADANA\", \"link\": \"https://accion-ciudadana.org/\"},\n",
        "            \"TRANSPARENCY\": {\"name\": \"TRACODA\", \"link\": \"https://tracoda.info/\"},\n",
        "            \"ELECTIONS\": {\"name\": \"VOTANTE\", \"link\": \"https://twitter.com/somosvotante\"},\n",
        "            \"CORRUPTION\": {\"name\": \"ALAC\", \"link\": \"https://twitter.com/ALAC_SV\"},\n",
        "        },\n",
        "        \"Social\": {\n",
        "            \"GENDER\": {\"name\": \"ORMUSA\", \"link\": \"https://ormusa.org/\"},\n",
        "            \"VIOLENCE\": {\"name\": \"ASDEUH\", \"link\": \"https://asdehu.com/\"},\n",
        "            \"ENVIRONMENT\": {\"name\": \"ACUA\", \"link\": \"https://www.acua.org.sv/\"},\n",
        "            \"MIGRATION\": {\"name\": \"GMIES\", \"link\": \"https://gmies.org/\"},\n",
        "        },\n",
        "        \"Economy\": {\n",
        "            \"BUDGET\": {\"name\": \"FUNDE\", \"link\": \"https://funde.org/\"},\n",
        "            \"MACROECONOMY\": {\"name\": \"ICEFI\", \"link\": \"https://mail.icefi.org/etiquetas/el-salvador\"},\n",
        "        }\n",
        "    }\n",
        "\n",
        "    # Fetch summary from the internet using the info_extraction function\n",
        "    params = {\n",
        "        \"engine\": \"google\",\n",
        "        \"q\": subject ,\n",
        "        \"api_key\": api_key\n",
        "    }\n",
        "\n",
        "    search = GoogleSearch(params)\n",
        "    results = search.get_dict()\n",
        "    organic_results = results[\"organic_results\"]\n",
        "\n",
        "    # Flatten all priority sources for secondary ranking\n",
        "    all_priority_sources = {info['link'] for _, approaches in topic_priority_map.items() for _, info in approaches.items()}\n",
        "    topic_linked_sources = [info['link'] for approach, info in topic_priority_map.get(topic, {}).items()]\n",
        "\n",
        "    # Initialize summary list with rank\n",
        "    summary = []\n",
        "    for result in organic_results[:min_search]:\n",
        "        snippet = result['snippet']\n",
        "        source_url = result['link']\n",
        "        words = snippet.split()[:length]  # Select the first 'length' words\n",
        "        truncated_snippet = ' '.join(words)\n",
        "\n",
        "        # Rank determination\n",
        "        if source_url in topic_linked_sources:\n",
        "            rank = 1  # Highest priority: Directly linked to the topic\n",
        "        elif source_url in all_priority_sources:\n",
        "            rank = 2  # Secondary priority: In the priority map but not directly linked to the topic\n",
        "        else:\n",
        "            rank = 3  # Lowest priority: Not in the priority map\n",
        "\n",
        "        # Append the summary with metadata including rank\n",
        "        summary.append({\n",
        "            \"snippet\": truncated_snippet,\n",
        "            \"source\": source_url,\n",
        "            \"rank\": rank\n",
        "        })\n",
        "\n",
        "    # Sort the summary list by 'rank'\n",
        "    sorted_summary = sorted(summary, key=lambda x: x['rank'])\n",
        "\n",
        "    return sorted_summary\n"
      ],
      "metadata": {
        "id": "-gloOBD27_xj"
      },
      "execution_count": 40,
      "outputs": []
    },
    {
      "cell_type": "code",
      "execution_count": 41,
      "metadata": {
        "id": "2le4glJFcaSJ"
      },
      "outputs": [],
      "source": [
        "# Build Agent Wrapper\n",
        "class FakeDetectionWrapper:\n",
        "    def __init__(self, client):\n",
        "        self.client = client\n",
        "\n",
        "class ClassAgent(FakeDetectionWrapper):\n",
        "    def __init__(self, client):\n",
        "        super().__init__(client)\n",
        "\n",
        "        self.class_agent = \"\"\" You are an agent with the task of analysing a headline {headline} .\n",
        "        you will identify the subject, the event and the field the news belongs to either Politics, Economics and Social.\n",
        "        you will provide a Json Structure:\n",
        "          (\n",
        "          \"subject\":  subject of the news,\n",
        "          \"event\": event described,\n",
        "         \"topic\": field the news belongs to Politics, Economics or Social\n",
        "        )\n",
        "        \"\"\"\n",
        "        self.prompt_class_agent = PromptTemplate(template=self.class_agent, input_variables=[\"headline\"])\n",
        "\n",
        "        # Corrected the LLMChain instantiation\n",
        "        self.llm_chain_class_agent = LLMChain(prompt=self.prompt_class_agent, llm=self.client)\n",
        "\n",
        "    def _run_class_branch(self,client,headline):\n",
        "        self.headline=headline\n",
        "\n",
        "        try:\n",
        "            class_agent_output = self.llm_chain_class_agent.run({'headline': self.headline})\n",
        "            return class_agent_output\n",
        "        except Exception as e:\n",
        "            print(e)\n",
        "            return \"Error class layer\"\n",
        "\n",
        "\n",
        "class FilterAgent(FakeDetectionWrapper):\n",
        "    def __init__(self, client):\n",
        "        super().__init__(client)\n",
        "\n",
        "        self.filter_agent = \"\"\" You are an agent with the task of counting in how many entries of a context {context},\n",
        "         an text extract{headline} can be found indentically word by word, you will review each entry\n",
        "         and see if the extract {headline} can be found exactly the same within each entry,\n",
        "         your job is to generate a Json structure:\n",
        "              (\n",
        "                \"times\": number of entries where the headline is found exactly word by word,\n",
        "              )\n",
        "\n",
        "        \"\"\"\n",
        "        self.prompt_filter_agent = PromptTemplate(template=self.filter_agent, input_variables=[\"headline\",\"context\"])\n",
        "\n",
        "        # Corrected the LLMChain instantiation\n",
        "        self.llm_chain_filter_agent = LLMChain(prompt=self.prompt_filter_agent, llm=self.client)\n",
        "\n",
        "    def _run_filter_branch(self,client,headline,context):\n",
        "        self.context=context\n",
        "        self.headline=headline\n",
        "\n",
        "        try:\n",
        "            filter_agent_output = self.llm_chain_filter_agent.run({'headline': self.headline,'context':self.context})\n",
        "            return filter_agent_output\n",
        "        except Exception as e:\n",
        "            print(e)\n",
        "            return \"Error filter layer\"\n",
        "\n",
        "class HeadlineAgent(FakeDetectionWrapper):\n",
        "    def __init__(self, client):\n",
        "        super().__init__(client)\n",
        "\n",
        "        self.headline_agent = \"\"\" You are an agent with the task of identifying the whether the headline {headline} is aligned with\n",
        "        the body of the news {news} you will generate a Json output\n",
        "      (\n",
        "        \"label\": 0 if they are not aligned and 1 if it is,\n",
        "        \"analysis\": analysis the divergence between the headline and the body of the news.\n",
        "      )\n",
        "\n",
        "        \"\"\"\n",
        "        self.prompt_headline_agent = PromptTemplate(template=self.headline_agent, input_variables=[\"headline\",\"context\"])\n",
        "\n",
        "        # Corrected the LLMChain instantiation\n",
        "        self.llm_chain_headline_agent = LLMChain(prompt=self.prompt_headline_agent, llm=self.client)\n",
        "\n",
        "    def _run_headline_branch(self,client,headline,news):\n",
        "        self.headline=headline\n",
        "        self.news=news\n",
        "\n",
        "        try:\n",
        "            headline_agent_output = self.llm_chain_headline_agent.run({'headline': self.headline,'news':self.news})\n",
        "            return headline_agent_output\n",
        "        except Exception as e:\n",
        "            print(e)\n",
        "            return \"Error headline layer\"\n",
        "\n",
        "\n",
        "class DecisionAgent(FakeDetectionWrapper):\n",
        "    def __init__(self, client):\n",
        "        super().__init__(client)\n",
        "\n",
        "        self.decision_agent = \"\"\"You will be presented with a piece of news {news} and information gathered from the internet {filtered_context}.\n",
        "        Your task is to evaluate whether the news is real or fake, based solely on:\n",
        "\n",
        "        - Reliability of sources in context {filtered_context}.\n",
        "        - Probability of the news {news} being fake as provided by probability {probability} where probability is the probability of it being fake.\n",
        "        - Aligment of the headline and the news {aligment} where 0 is there is not aligment and 1 if there is.\n",
        "        - Number of times the exact headline is found in other media outlets {times} with could indicate a misinformation campaign\n",
        "\n",
        "        Based on these criteria, you must label the headline as Real or Fake, and add reasoning including the sources to support this.\n",
        "        You answer strictly as single JSON string. Don't include any other verbose texts and don't include the markdown syntax anywhere.JSON format:\n",
        "          (\n",
        "        \"category\": \"Fake or Real\",\n",
        "        \"reasoning\": \"Your reasoning here.\"\n",
        "           )\n",
        "\n",
        "        \"\"\"\n",
        "        self.prompt_decision_agent = PromptTemplate(template=self.decision_agent, input_variables=[\"news\",\"filtered_context\",\"probability\",\"aligment\",\"times\"])\n",
        "\n",
        "        # Corrected the LLMChain instantiation\n",
        "        self.llm_chain_decision_agent = LLMChain(prompt=self.prompt_decision_agent, llm=self.client)\n",
        "\n",
        "    def _run_decision_branch(self,news,filtered_context,probability,aligment, times):\n",
        "        self.news=news\n",
        "        self.filtered_context=filtered_context\n",
        "        self.probability=probability\n",
        "        self.aligment= aligment\n",
        "        self.times=times\n",
        "\n",
        "\n",
        "        try:\n",
        "            decision_agent_output = self.llm_chain_decision_agent.run({'news':self.news,'filtered_context':self.filtered_context,'probability':self.probability,'aligment':self.aligment,'times':self.times})\n",
        "            return decision_agent_output\n",
        "        except Exception as e:\n",
        "            print(e)\n",
        "            return \"Error decision layer\"\n",
        "\n"
      ]
    },
    {
      "cell_type": "markdown",
      "source": [
        "# 3.1 Examples"
      ],
      "metadata": {
        "id": "nkCqw44x3oq9"
      }
    },
    {
      "cell_type": "code",
      "source": [
        "class ProcessPipeline:\n",
        "    def __init__(self, client,input,headline,ml_pipeline):\n",
        "\n",
        "        self.class_agent = ClassAgent(client)\n",
        "\n",
        "        self.decision_agent = DecisionAgent(client)\n",
        "        self.filter_agent=FilterAgent(client)\n",
        "        self.headline_agent=HeadlineAgent(client)\n",
        "        self.client = client\n",
        "        self.news=input\n",
        "        self.headline=headline\n",
        "        self.ml_model_pipeline=ml_pipeline\n",
        "\n",
        "\n",
        "    def process_news(self):\n",
        "        print('intermediate Outputs')\n",
        "\n",
        "        # Proceed with classification and summary\n",
        "        try:\n",
        "            class_result = self.class_agent._run_class_branch(self,self.headline)\n",
        "            print(\"Classification Result:\", class_result)\n",
        "            data = json.loads(class_result)\n",
        "            subject = data['subject']\n",
        "            event = data['event']\n",
        "            topic = data['topic']\n",
        "            print(f\"Subject: {subject}, Event: {event}, Topic: {topic}\")\n",
        "        except Exception as e:\n",
        "            print(f\"Error during classification: {e}\")\n",
        "            return {\"error\": \"Failed to classify the news.\"}\n",
        "\n",
        "\n",
        "        try:\n",
        "            print(self.headline)\n",
        "            context = info_extraction(self.headline, topic)\n",
        "            print('Context:', context)\n",
        "\n",
        "\n",
        "        except Exception as e:\n",
        "            return {\"error\": \"Failed during extraction.\"}\n",
        "\n",
        "        # Integrate ML model predictions (Placeholder for actual model integration)\n",
        "        try:\n",
        "            predicted_category = self.ml_model_pipeline.predict([self.headline])  # Use the news directly or another appropriate variable\n",
        "            predicted_probability = self.ml_model_pipeline.predict_proba([self.headline])[0][0]\n",
        "            print(f\"Predicted Category: {predicted_category}, Probability: {predicted_probability}\")\n",
        "        except Exception as e:\n",
        "            print(f\"Error during prediction: {e}\")\n",
        "            return {\"error\": \"Failed to predict the news category.\"}\n",
        "\n",
        "        try:\n",
        "            filter_result = self.filter_agent._run_filter_branch(self,self.headline, context)\n",
        "            print(filter_result)\n",
        "\n",
        "            data = json.loads(filter_result)\n",
        "            times=data['times']\n",
        "\n",
        "\n",
        "        except Exception as e:\n",
        "            print(f\"Error during context filtering: {e}\")\n",
        "            return {\"error\": \"Failed to filter the context.\"}\n",
        "\n",
        "        try:\n",
        "            headline_result = self.headline_agent._run_headline_branch(self,self.headline, self.news)\n",
        "            #print(\"Filter Result:\", headline_result)\n",
        "            data = json.loads(headline_result)\n",
        "            aligment = data[\"label\"]\n",
        "            analysis = data[\"analysis\"]\n",
        "\n",
        "        except Exception as e:\n",
        "            print(f\"Error during aligment analysis: {e}\")\n",
        "            return {\"error\": \"Failed to identify aligment.\"}\n",
        "\n",
        "\n",
        "\n",
        "        # Make the final decision\n",
        "        try:\n",
        "            decision_result = self.decision_agent._run_decision_branch(headline, context, predicted_probability,aligment,times)\n",
        "            final_output = json.loads(decision_result)\n",
        "            print(\"Decision:\", final_output['category'])\n",
        "            print(\" \")\n",
        "            print(\"Reasoning:\",final_output['reasoning'])\n",
        "\n",
        "            #return {\"decision\": final_output['category'],\"reasoning\":final_output['reasoning']}\n",
        "        except Exception as e:\n",
        "            print(f\"Error during decision-making: {e}\")\n",
        "            return {\"error\": \"Failed to make a final decision on the news.\"}\n"
      ],
      "metadata": {
        "id": "w3oJKP5V6TER"
      },
      "execution_count": 42,
      "outputs": []
    },
    {
      "cell_type": "code",
      "source": [
        "news = \"\"\"\n",
        "El candidato presidencial del partido Nuestro Tiempo, Luis Parada, dejó entrever que de llegar a ganar las próximas elecciones de 2024 tendría acercamientos con los grupos terroristas de las pandillas.\n",
        "Las declaraciones del aspirante surgieron durante una entrevista en la que se le cuestionó si estaría dispuesto a tener acercamientos con los cabecillas de estos grupos criminales.«Si es necesario lo haríamos (…) hay algunas cosas que no necesitamos negociar para saberlas, otras cosas no. Podría ser necesario tener pláticas, conversaciones», fueron las declaraciones de Parada.\n",
        "El militar retirado agregó también que «Cualquier plática que tengamos (con los mareros) va a ser transparente y de conocimiento público». En el pasado, entre 2012 y 2014, los gobiernos del FMLN, avalaron una tregua con las pandillas en la que se negoció, supuestamente, una reducción de homicidios, y luego negociaron votos a favor de Salvador Sánchez Cerén. Lo mismo hizo Norman Quijano, cuando competía por la presidencia por ARENA, el expartido de Parada.\n",
        "Ante las declaraciones del militar retirado y ahora candidato, el ministro de Defensa, René Francis Merino Monroy, cuestionó sobre cómo es posible que el candidato de Nuestro Tiempo considere negociar con asesinos.\n",
        "«Estaba viendo una entrevista que le hicieron a uno de los candidatos, y le preguntan que si él negociaría con pandillas, entonces el candidato dice: ´Sí; hay cosas que hay que revisarlas con las pandillas y hay que ponernos de acuerdo´», comentó el ministro durante la entrevista de Diálogo de Canal 21.\n",
        "Merino Monroy añadió que «La población ya sabe que esas negociaciones por más que digan que las van a hacer de cara a la población, ¿cómo se va a poner a negociar con asesinos?».\n",
        "Los acercamientos que los gobiernos de los partidos ARENA y FMLN tuvieron con las pandillas permitió que estos grupos criminales se fortalecieran y tomaran el control total de la mayoría de las colonias y comunidades del país.\n",
        "La denominada tregua entre pandillas, avalada por el primer gobierno del FMLN, concedió todo tipo de privilegios a estos grupos terroristas, mientras la población honrada y trabajadora era asesinada ante la mirada pasiva de las autoridades de turno.\n",
        "Tras viralizarse las declaraciones de Parada sobre su aval para que negociar con pandilleros, luego posteó en la red «X», para matizar que «podría ser necesario hablar con los líderes pandilleros» para consultar sobre supuestas negociaciones con el gobierno, a pesar que el gobierno de Bukele ha sido el único que en 30 años declaró la guerra a las pandillas y ha encarcelado a más de 70,000 terroristas y hasta ordenó construir el Cecot, la cárcel exclusiva para mareros.\n",
        "\"\"\"\n",
        "headline='El candidato presidencial Luis Parada propone dialogar con las pandillas'\n",
        "\n",
        "verification_process = ProcessPipeline(llm_35,news,headline,ml_pipeline)\n",
        "\n",
        "\n",
        "# Or, to process without using the filter agent\n",
        "result = verification_process.process_news()\n",
        "\n",
        "\n",
        "print(result)"
      ],
      "metadata": {
        "colab": {
          "base_uri": "https://localhost:8080/"
        },
        "id": "n4Lfz99qPt81",
        "outputId": "4e83ece5-be9e-4e74-eb5b-b573a90d53f9"
      },
      "execution_count": 43,
      "outputs": [
        {
          "output_type": "stream",
          "name": "stdout",
          "text": [
            "intermediate Outputs\n"
          ]
        },
        {
          "output_type": "stream",
          "name": "stderr",
          "text": [
            "/usr/local/lib/python3.10/dist-packages/langchain_core/_api/deprecation.py:117: LangChainDeprecationWarning: The function `run` was deprecated in LangChain 0.1.0 and will be removed in 0.2.0. Use invoke instead.\n",
            "  warn_deprecated(\n"
          ]
        },
        {
          "output_type": "stream",
          "name": "stdout",
          "text": [
            "Classification Result: \n",
            "{\n",
            "  \"subject\": \"Luis Parada\",\n",
            "  \"event\": \"propone dialogar con las pandillas\",\n",
            "  \"topic\": \"Politics\"\n",
            "}\n",
            "Subject: Luis Parada, Event: propone dialogar con las pandillas, Topic: Politics\n",
            "El candidato presidencial Luis Parada propone dialogar con las pandillas\n",
            "Context: [{'snippet': 'En el pasado, entre 2012 y 2014, los gobiernos del FMLN, avalaron una tregua con las pandillas en la que se negoció, supuestamente, una ...', 'source': 'https://diarioelsalvador.com/el-candidato-presidencial-luis-parada-propone-dialogar-con-las-pandillas/400083/', 'rank': 3}, {'snippet': 'Nación TV | El candidato presidencial Luis Parada propone dialogar con las pandillas. 366 views · 5 months ago ...more ...', 'source': 'https://www.youtube.com/watch?v=-QMkmGtF8rc', 'rank': 3}, {'snippet': 'Lo que llevó la paz a El Salvador es un pacto corrupto con las pandillas. Luis Parada. Decidimos que era necesario participar porque hay que ...', 'source': 'https://legrandcontinent.eu/es/2024/02/04/en-el-salvador-la-gente-tiene-miedo-una-conversacion-con-el-candidato-presidencial-de-la-oposicion-salvadorena-luis-parada-1/', 'rank': 3}, {'snippet': '... Luis Parada, de Nuestro Tiempo, consideraba negociar con las pandillas de ... Falso: Candidato a la Presidencia ... conversar con las pandillas. “Si ...', 'source': 'https://vozpublica.net/2023/09/15/falso-candidato-a-la-presidencia-ha-dicho-que-negociara-con-pandillas/', 'rank': 3}, {'snippet': 'Luis Parada propone dialogar con las pandillas. Luis Parada propone dialogar con las pandillas. Mauri Guevara and 102 others. 2.3K Views · \\U000f0925 ...', 'source': 'https://m.facebook.com/PorunNuevoElSalvador/videos/655338356558421/', 'rank': 3}, {'snippet': 'Nación TV | El candidato presidencial Luis Parada propone dialogar con las pandillas. 267 views. 3 months ago · 2:59 · Nación TV | Pandilleros han abandonado ...', 'source': 'https://www.youtube.com/channel/UChy23Z3MWKYKxnC8YikcCHQ/videos', 'rank': 3}, {'snippet': 'CANDIDATO LUIS PARADA INSISTE QUE PARA \"GOBERNAR\" HAY QUE DIALOGAR CON LAS PANDILLAS El candidato presidencial del partido NUESTRO TIEMPO, ...', 'source': 'https://twitter.com/alertanoti/status/1735649534405935222', 'rank': 3}, {'snippet': 'Nación TV | El candidato presidencial Luis Parada propone dialogar con las pandillas. 370 views. 6 months ago · 2:59 · Nación TV | Pandilleros han abandonado ...', 'source': 'https://www.youtube.com/channel/UChy23Z3MWKYKxnC8YikcCHQ/videos?view=0&sort=dd&shelf_id=0', 'rank': 3}]\n",
            "Predicted Category: ['True'], Probability: 0.47\n",
            "\n",
            "\n",
            "{\n",
            "  \"times\": 8\n",
            "}\n",
            "Decision: Fake\n",
            " \n",
            "Reasoning: Based on the reliability of sources, the news is likely to be fake. The sources include a Facebook video, a YouTube video, and a tweet, which are not considered reliable sources for news. Additionally, the probability of the news being fake is 0.47, which is close to 50%, indicating a high likelihood of it being fake. Furthermore, the headline is found in 8 other media outlets, which could suggest a coordinated misinformation campaign. Therefore, the news is likely to be fake and should be approached with caution.\n",
            "None\n"
          ]
        }
      ]
    },
    {
      "cell_type": "code",
      "source": [
        "news = \"\"\"\n",
        "El también presidente de la Comisión de Hacienda de la Asamblea y jefe de la banca de Nuevas Ideas dijo,\n",
        "sin embargo, que no fue una elección de “foto finish”, su partido venció con claridad y mucha distancia y los perdedores\n",
        "siempre van a hablar, en relación a los reclamos para sembrar las dudas en el recién concluido proceso.\n",
        "Con la inversión que se hizo y los fondos aprobados al TSE “esperábamos una elecciones inmaculadas”,\n",
        "señaló Guevara en sus críticas al organismo que pasó a ser la “oveja negra” en el proceso electoral.\n",
        "No hay dudas en la victoria de Nuevas Ideas y por eso apoyamos la decisión del TSE y los partidos políticos\n",
        "del conteo voto a voto que comenzará hoy, sostuvo durante una comparecencia en el programa de entrevista\n",
        "Frete a Frente de la Telecorporación Salvadoreña (TCS). No hay dudas en la victoria de Nuevas Ideas\n",
        "y por eso apoyamos la decisión del TSE y los partidos políticos del conteo voto a voto que comenzará hoy,\n",
        "sostuvo durante una comparecencia en el programa de entrevista Frete a Frente de la Telecorporación Salvadoreña (TCS).\n",
        "Guevara pidió a la oposición que aporte pruebas sobre las violaciones del proceso electoral que\n",
        "son objetos de denuncia por Arena y otras agrupaciones que participaron en los comicios.\n",
        "Dijo que ve muy poco probable que cambie el pronóstico de votos para el Legislativo, no obstante,\n",
        "subrayó, vamos por las 60 butacas. Asimismo manifestó su apoyo a repetir las elecciones en algún lugar\n",
        "específico donde se comprueben fallas pero no a nivel nacional donde es “evidente” la ventaja de Nuevas ideas.\n",
        "En estas acciones que denuncia la oposición, aseguró que el más afectado es el partido Nuevas Ideas, pues las votaciones\n",
        "muestran su aplastante victoria.Por otra parte, el TSE informó que suspendieron la repetición de la votación el\n",
        "exterior que habían anunciado la víspera, la decisión se tomó luego de una reunión con los partidos políticos y tras las\n",
        "observaciones y cuestionamientos del partido Arena en relación con que no se lleve a cabo la elección extraordinaria.\n",
        "Este miércoles comenzará el conteo voto a voto de las boletas, en especial las que decidirán la integración de la\n",
        "Asamblea Legislativa. La institución indicó que se llevará a cabo la instalación de 49 mesas encargadas del voto nacional, mientras que dos más serán instaladas para el voto en el exterior en un proceso que demorará entre 10 y 15 días, según fuentes del tribunal. La institución indicó que se llevará a cabo la instalación de 49 mesas encargadas del voto nacional, mientras que dos más serán instaladas para el voto en el exterior en un proceso que demorará entre 10 y 15 días, según fuentes del tribunal. La presidenta del ente rector de los comicios, Dora Martínez,\n",
        "aseguró que el proceso será fiscalizado, transparente y de conocimiento público para los electores.\n",
        "\n",
        "\"\"\"\n",
        "\n",
        "headline='Afirman que TSE en El Salvador tuvo actuación deplorable'\n",
        "verification_process = ProcessPipeline(llm_35, news,headline,ml_pipeline)\n",
        "\n",
        "\n",
        "# Or, to process without using the filter agent\n",
        "result = verification_process.process_news()\n",
        "\n",
        "print(result)"
      ],
      "metadata": {
        "colab": {
          "base_uri": "https://localhost:8080/"
        },
        "id": "pd7QdAncVwdo",
        "outputId": "5a4095e2-f38a-4f6a-ee7b-619780c3b09c"
      },
      "execution_count": null,
      "outputs": [
        {
          "output_type": "stream",
          "name": "stdout",
          "text": [
            "intermediate Outputs\n",
            "Classification Result: \n",
            "{\n",
            "  \"subject\": \"TSE en El Salvador\",\n",
            "  \"event\": \"actuación deplorable\",\n",
            "  \"topic\": \"Politics\"\n",
            "}\n",
            "Subject: TSE en El Salvador, Event: actuación deplorable, Topic: Politics\n",
            "Afirman que TSE en El Salvador tuvo actuación deplorable\n",
            "Context: [{'snippet': 'San Salvador, 7 feb (Prensa Latina) El Tribunal Supremo Electoral (TSE) de El Salvador tuvo una actuación deplorable durante las elecciones ...', 'source': 'https://www.prensa-latina.cu/2024/02/07/afirman-que-tse-en-el-salvador-tuvo-actuacion-deplorable/', 'rank': 3}, {'snippet': 'Mientras tanto el TSE está por concluir ... Relacionado. Afirman que TSE en El Salvador tuvo actuación deplorable 8 febrero, 2024 En «Destacadas».', 'source': 'https://www.elindependiente.sv/2024/02/09/prosiguen-en-el-salvador-criticas-a-proceso-de-elecciones/', 'rank': 3}, {'snippet': 'San Salvador, 7 feb (Prensa Latina) El Tribunal Supremo Electoral (TSE) de El Salvador tuvo una actuación deplorable durante las elecciones del 4 de febrero ...', 'source': 'http://spain.shafaqna.com/ES/AL/7003994', 'rank': 3}, {'snippet': 'Cuatro días después de las elecciones presidenciales y legislativas salvadoreñas, no hay resultados finales debido a numerosas fallas en el ...', 'source': 'https://www.bbc.com/mundo/articles/ckve37xg9yeo', 'rank': 3}, {'snippet': 'Los cinco suplentes del poder electoral denuncian que se han cometido acciones lejanas a la “forma legal” y “correcta” durante las ...', 'source': 'https://elpais.com/america/2024-02-12/magistrados-del-tribunal-electoral-de-el-salvador-se-desligan-del-proceso-que-dio-el-triunfo-a-bukele.html', 'rank': 3}, {'snippet': 'En tanto, la derechista Alianza Republicana Nacionalista (Arena) emitió un comunicado en el que exigió la” nulidad y repetición de los comicios” ...', 'source': 'https://apnews.com/world-news/general-news-bea09b7cf5c9ca9dca3d694ab2239162', 'rank': 3}, {'snippet': 'El Tribunal Supremo Electoral rechazó la solicitud de la oposición, mientras Nayib Bukele dijo que hubo comicios justos.', 'source': 'https://www.dw.com/es/tse-de-el-salvador-rechaza-anular-elecciones-legislativas/a-68347603', 'rank': 3}, {'snippet': 'El Tribunal Supremo Electoral (TSE) de El Salvador dijo el lunes que pidió a juntas electorales de todo el país que registren manualmente ...', 'source': 'https://cnnespanol.cnn.com/2024/02/05/el-salvador-conteo-votos-elecciones-nayib-bukele-trax/', 'rank': 3}, {'snippet': 'Elecciones2024Sv | El TSE ya tiene habilitado el sitio solo debe ser https://votacion.tse.gob.sv para que los salvadoreños con dirección en el...', 'source': 'https://www.facebook.com/photo.php?fbid=797844309049518&id=100064718677563&set=a.212368740930414&locale=es_LA', 'rank': 3}]\n",
            "Predicted Category: ['Fake'], Probability: 0.55\n",
            "\n",
            "\n",
            "\n",
            "{\n",
            "  \"times\": 9\n",
            "}\n",
            "Decision: Fake\n",
            " \n",
            "Reasoning: The sources used in this piece of news are not reliable as they all come from the same political perspective and could be biased. Additionally, the probability of the news being fake is high at 0.55. Furthermore, the headline and the news do not align as the headline suggests a negative view of the TSE while the news only mentions criticism and not any concrete evidence of wrongdoing. Finally, the fact that the exact headline is found in 9 other media outlets could indicate a coordinated effort to spread misinformation. Therefore, this news is likely fake and should be approached with caution.\n",
            "None\n"
          ]
        }
      ]
    },
    {
      "cell_type": "code",
      "source": [
        "news = \"\"\"\n",
        "Los magistrados dijeron en su resolución que con la prueba pericial y documental los fiscales de la Unidad Anticorrupción les demostraron el enriquecimiento ilícito de forma indebida entre el 2012 al 2018.\n",
        "\n",
        "\n",
        "Uno de los magistrados sostuvo que valoraron toda la prueba, entre ellos dos informes de pericia financiera contable que acreditó el aumento patrimonial sin justificación de las dos demandadas.\n",
        "\n",
        "Los fiscales demandaron por 15 irregularidades, pero al final solo se probaron ocho.\n",
        "\n",
        "A Lorena Peña la condenaron por un incremento patrimonial de $133,746.60 , en cinco irregularidades, mientras que su hija le hallaron tres inconsistencias por la cantidad de $17,016.26.\n",
        "\n",
        "Durante la audiencia probatoria, los fiscales le manifestaron a los magistrados que en el análisis que hizo la Sección de Probidad de la Corte Suprema de Justicia (CSJ) encontró las ocho inconsistencias de movimientos financieros, compra de inmuebles y pagos mediante depósitos bancarios de tarjetas de crédito.\n",
        "\n",
        "Todos esos pagos y adquisiciones son desproporcionados ya que no están de acuerdo a los ingresos legítimos percibidos por la exdiputada y su hija. En la decisión judicial se le ha dado la razón a la Fiscalía accediendo a una condena.\n",
        "\n",
        "Ambas están obligadas a devolver al Estado el monto con el cual se enriquecieron indebidamente, además, quedan inhabilitadas para ejercer un cargo público durante un plazo de 10 años, como lo señala la Ley de Enriquecimiento Ilícito de 1959.\n",
        "\n",
        "\n",
        "El juicio civil fue ordenado por nueve de 15 magistrados de la Corte Suprema de Justicia, el 26 de enero de 2023, luego de un informe que envió Probidad donde se señaló que la exlegisladora y su hija no pudieron justificar los ingresos cuestionados en este proceso.\n",
        "\n",
        "Lorena Peña, enfrentó el proceso por el incremento patrimonial que tuvo como diputada propietaria de la Asamblea Legislativa, en los periodos del 1 de mayo del año 2012 al 30 de abril del 2015 y del 1 de mayo de 2015 al 30 de abril del 2018.\n",
        "\n",
        "La exdiputada se convierte en la sexta exfuncionaria de los gobiernos del FMLN en ser condenada por enriquecimiento ilícito y en el 2024 es la segunda, ya que en enero fue condenado Medardo González, exsecretario general de ese instituto político.\n",
        "\n",
        "En el 2023 fueron encontrados responsables de enriquecimiento ilícito José Atilio Benítez, exministro de Defensa; Benito Lara, exdiputado y exministro de Justicia y Seguridad; David Munguía Payés, exministro de la Defensa y Eduardo Linares, exdirector del Organismo de Inteligencia del Estado (OIE).\n",
        "\"\"\"\n",
        "\n",
        "headline='Exdiputada Lorena Peña y su hija son condenadas por enriquecimiento ilícito por más de $150,000'\n",
        "\n",
        "verification_process = ProcessPipeline(llm_35, news,headline,ml_pipeline)\n",
        "\n",
        "\n",
        "# Or, to process without using the filter agent\n",
        "result = verification_process.process_news()\n",
        "\n",
        "print(result)"
      ],
      "metadata": {
        "id": "Ath8ZD8WYMYs",
        "colab": {
          "base_uri": "https://localhost:8080/"
        },
        "outputId": "a3998119-ed23-401d-cca6-2895e999ee02"
      },
      "execution_count": null,
      "outputs": [
        {
          "output_type": "stream",
          "name": "stdout",
          "text": [
            "intermediate Outputs\n",
            "Classification Result: \n",
            "{\n",
            "  \"subject\": \"Exdiputada Lorena Peña y su hija\",\n",
            "  \"event\": \"son condenadas por enriquecimiento ilícito por más de $150,000\",\n",
            "  \"topic\": \"Politics\"\n",
            "}\n",
            "Subject: Exdiputada Lorena Peña y su hija, Event: son condenadas por enriquecimiento ilícito por más de $150,000, Topic: Politics\n",
            "Exdiputada Lorena Peña y su hija son condenadas por enriquecimiento ilícito por más de $150,000\n",
            "Context: [{'snippet': 'Lorena Peña e hija son condenadas por enriquecimiento ilícito de $150,000 · condenó a la exdiputada del FMLN, Lorena Peña y a su hija Ana ...', 'source': 'https://diario.elmundo.sv/nacionales/lorena-pena-e-hija-son-condenadas-por-enriquecimiento-ilicito-de-150000', 'rank': 3}, {'snippet': 'La exdiputada se convierte en la sexta exfuncionaria de los gobiernos del FMLN en ser condenada por enriquecimiento ilícito y en el 2024 es la ...', 'source': 'https://diarioelsalvador.com/exdiputada-lorena-pena-y-su-hija-son-condenadas-por-enriquecimiento-ilicito-por-mas-de-150000/472404/', 'rank': 3}, {'snippet': 'Condenan a exdiputada Lorena Peña y a su hija a devolver al Estado más de $150,000 por enriquecimiento ilícito. La FGR asegura que la exdiputada ...', 'source': 'https://www.elsalvadortimes.com/articulo/judiciales/condenan-exdiputada-lorena-pena-hija-devolver-mas-150000-enriquecimiento-ilicito/20240306113049094671.html', 'rank': 3}, {'snippet': 'Lorena Peña e hija son condenadas por enriquecimiento ilícito de $150,000. En su resolución, los magistrados de la Cámara, dijeron que la ...', 'source': 'https://lapaztimes.com/lorena-pena-e-hija-son-condenadas-por-enriquecimiento-ilicito-de-150000/', 'rank': 3}, {'snippet': 'La justicia de El Salvador condenó el martes a la expresidenta del Congreso, Lorena Peña, y a su hija a restituir al Estado más de 150.000 ...', 'source': 'https://www.seattlepi.com/news/world/article/la-justicia-de-el-salvador-condena-por-18706050.php', 'rank': 3}, {'snippet': 'La exdiputada Lorena Peña fue condenada a restituir al Estado $133746.60 y su hija la cantidad de $17016.26. Los magistrados aseguraron que ...', 'source': 'https://www.laprensagrafica.com/elsalvador/Condenan-a-exdiputada-Lorena-Pena-y-su-hija-por-enriquecimiento-ilicito-20240305-0051.html', 'rank': 3}, {'snippet': 'DePaís Exdiputada Lorena Peña y su hija son condenadas por enriquecimiento ilícito por más de $150000 Peña y su hija no logró desvirtuar el ...', 'source': 'https://twitter.com/De_Politica_ES/status/1766267666468094354', 'rank': 3}, {'snippet': 'En cuanto a su hija, se le acusa por inconsistencias en depósitos bancarios en efectivo y pago de tarjetas de crédito por un total de $17,016.26 ...', 'source': 'https://ultimahora.sv/hallan-culpables-de-enriquecimiento-ilicito-a-lorena-pena-y-su-hija/', 'rank': 3}, {'snippet': 'San Salvador. La exdiputada del FMLN, Lorena Guadalupe Peña Mendoza, y su hija, Ana Virginia Guardado Peña, tendrán que reintegrar al Estado ...', 'source': 'https://www.fiscalia.gob.sv/fiscalia-logra-que-exdiputada-del-fmln-lorena-pena-y-su-hija-sean-obligadas-a-devolver-mas-de-150-mil-dolares-tras-ser-condenadas-por-enriquecimiento-ilicito/', 'rank': 3}, {'snippet': 'Le exdiputada del FMLN, Lorena Peña e hija son condenadas por enriquecimiento ilícito de $150000 dólares.', 'source': 'https://twitter.com/ElSalvadorNot/status/1765392538528055570', 'rank': 3}]\n",
            "Predicted Category: ['Fake'], Probability: 0.55\n",
            "\n",
            "\n",
            "{\n",
            "  \"times\": 10\n",
            "}\n",
            "Decision: Fake\n",
            " \n",
            "Reasoning: Based on the reliability of sources, the probability of the news being fake, and the alignment of the headline and news, it is likely that this news is fake. The sources used are all from El Salvador, which could indicate a biased perspective. Additionally, the probability of the news being fake is relatively high at 0.55. Furthermore, the headline is found in 10 other media outlets, which could suggest a coordinated effort to spread misinformation. Therefore, it is likely that this news is fake and should be approached with caution.\n",
            "None\n"
          ]
        }
      ]
    },
    {
      "cell_type": "code",
      "source": [
        "news = \"\"\"\n",
        "El Tribunal Supremo Electoral (TSE) entregó este jueves, la acreditación al Presidente Nayib Bukele para su segundo mandato en El Salvador, evento que contó con la participación de todo el Cuerpo Diplomático.\n",
        "\n",
        "«Todo el Cuerpo Diplomático acreditado en El Salvador acompañó este día al Presidente Electo, Nayib Bukele y al vicepresidente, Félix Ulloa, en el acto de la Certificación de Resultados de las Elecciones Presidenciales 2024», detalló Casa Presidencial en su cuenta de «X».\n",
        "\n",
        "El Cuerpo Diplomático está conformado por un total de 40 representantes de países de todo el mundo, quienes mostraron su respaldo a la reelección del Mandatario salvadoreño al estar presente en el evento de Certificación de Resultados de las Elecciones Presidenciales 2024.\n",
        "\"\"\"\n",
        "\n",
        "headline=\" Cuerpo Diplomático acompañó la acreditación del segundo mandato del Presidente Bukele\"\n",
        "verification_process = ProcessPipeline(llm_35, news,headline,ml_pipeline)\n",
        "\n",
        "# Or, to process without using the filter agent\n",
        "result = verification_process.process_news()\n",
        "\n",
        "print(result)"
      ],
      "metadata": {
        "colab": {
          "base_uri": "https://localhost:8080/"
        },
        "id": "NF-S2k6ub4Od",
        "outputId": "c7580bad-01df-4aca-a5a2-b3eb853e0dc5"
      },
      "execution_count": null,
      "outputs": [
        {
          "output_type": "stream",
          "name": "stdout",
          "text": [
            "intermediate Outputs\n",
            "Classification Result: \n",
            "{\n",
            "  \"subject\": \"Cuerpo Diplomático\",\n",
            "  \"event\": \"acreditación del segundo mandato del Presidente Bukele\",\n",
            "  \"topic\": \"Politics\"\n",
            "}\n",
            "Subject: Cuerpo Diplomático, Event: acreditación del segundo mandato del Presidente Bukele, Topic: Politics\n",
            " Cuerpo Diplomático acompañó la acreditación del segundo mandato del Presidente Bukele\n",
            "Context: [{'snippet': 'El Tribunal Supremo Electoral (TSE) entregó este jueves, la acreditación al Presidente Nayib Bukele para su segundo mandato en El Salvador, ...', 'source': 'https://ultimahora.sv/cuerpo-diplomatico-acompano-la-acreditacion-del-segundo-mandato-del-presidente-bukele/', 'rank': 3}, {'snippet': 'Comments3 · Recepción al Cuerpo Diplomático acreditado en España · Dispositivo de controles antidopaje deja más de una decena de detenidos en las ...', 'source': 'https://www.youtube.com/watch?v=uV8FKs1V1vU', 'rank': 3}, {'snippet': 'Este 29 de febrero, se llevó a cabo la Certificación de los Resultados Presidenciales, donde el Presidente electo, Nayib Bukele, ...', 'source': 'https://ultimahora.sv/presidente-bukele-recibe-certificacion-para-su-segundo-mandato-2024-2029/', 'rank': 3}, {'snippet': 'El Tribunal Supremo Electoral (TSE) entregó este jueves, la acreditación al Presidente Nayib Bukele para su segundo mandato en El Salvador, ...', 'source': 'https://m.facebook.com/ultimahsv/photos/internacionales-el-senador-estadounidense-ted-cruz-empez%C3%B3-a-aceptar-donaciones-d/729177352584126/', 'rank': 3}, {'snippet': 'ClasePolítica | Cuerpo Diplomático acompañó la acreditación del segundo mandato del Presidente @nayibbukele Nota completa: ...', 'source': 'https://twitter.com/ultimahsv/status/1763403040705380784', 'rank': 3}, {'snippet': 'El 100% del Cuerpo Diplomático acreditado en El Salvador asistió a la Certificación de Resultados de las Elecciones Presidenciales 2024.', 'source': 'https://www.facebook.com/PresidenciaSV/videos/el-100-del-cuerpo-diplom%C3%A1tico-acreditado-en-el-salvador-asisti%C3%B3-a-la-certificaci/360145836982959/', 'rank': 3}, {'snippet': 'Internacionales Las autoridades de Colombia en su último reporte informaron que se han registrado un total de 4881 casos positivos de ...', 'source': 'https://m.facebook.com/ultimahsv/posts/2621987228060453/', 'rank': 3}, {'snippet': 'MBN #MBNTV #MBNDigital #MBNNews © MBN El Salvador Ayúdanos Subcribiendote al canal, dando Like y compartiendo los videos para poder llegar a ...', 'source': 'https://www.youtube.com/watch?v=I_kBc2s6rMg', 'rank': 3}, {'snippet': 'SAN SALVADOR (AP) — El Tribunal Supremo Electoral (TSE) de El Salvador entregó el jueves las credenciales a Nayib Bukele que certifican su ...', 'source': 'https://apnews.com/world-news/general-news-12a4d13940362834213616985b1784b2', 'rank': 3}]\n",
            "Predicted Category: ['Fake'], Probability: 0.51\n",
            "\n",
            "\n",
            "{\"times\": 2}\n",
            "Decision: Real\n",
            " \n",
            "Reasoning: The sources provided are reliable and reputable news outlets, such as Ultima Hora, AP News, and MBN News. The probability of the news being fake is only 0.51, which is relatively low. Additionally, the headline aligns with the information provided in the news, and it has been found in multiple media outlets, indicating that it is not part of a misinformation campaign. Therefore, based on the reliability of sources, low probability of being fake, alignment of the headline and news, and multiple media outlets reporting the same information, the headline can be labeled as Real.\n",
            "None\n"
          ]
        }
      ]
    },
    {
      "cell_type": "code",
      "source": [
        "news = \"\"\"\n",
        "Autoridades de la Dirección de Obras Municipales (DOM) lanzaron el proyecto de mejoramiento vial en la calle principal que conecta a los cantones El Guayabo y Cutumayo, en Apastepeque, San Vicente.\n",
        "\n",
        "«Desde hoy, las cuadrillas de la Dirección de Obras Municipales se han enfocado en la renovación de 8.4 kilómetros de calles, beneficiando a más de 20,000 residentes locales», informó la entidad.\n",
        "\n",
        "El objetivo es mejorar la movilidad y la conexión en la zona para permitir el desarrollo económico local, con un acceso en óptimas condiciones, donde los agricultores podrán movilizar sus cosechas de forma más fácil a los puntos de venta.\n",
        "\n",
        "\"\"\"\n",
        "\n",
        "headline='Lanzan proyecto de mejoramiento vial en zona rural de San Vicente'\n",
        "verification_process = ProcessPipeline(llm_35, news,headline,ml_pipeline)\n",
        "\n",
        "# Or, to process without using the filter agent\n",
        "result = verification_process.process_news()\n",
        "\n",
        "print(result)"
      ],
      "metadata": {
        "colab": {
          "base_uri": "https://localhost:8080/"
        },
        "outputId": "002644d9-891a-414e-86e6-fc33fdef2d01",
        "id": "9R3LZZv0Fe5g"
      },
      "execution_count": null,
      "outputs": [
        {
          "output_type": "stream",
          "name": "stdout",
          "text": [
            "intermediate Outputs\n",
            "Classification Result: \n",
            "{\n",
            "  \"subject\": \"proyecto de mejoramiento vial\",\n",
            "  \"event\": \"lanzamiento\",\n",
            "  \"topic\": \"Economics\"\n",
            "}\n",
            "Subject: proyecto de mejoramiento vial, Event: lanzamiento, Topic: Economics\n",
            "Lanzan proyecto de mejoramiento vial en zona rural de San Vicente\n",
            "Context: [{'snippet': '#Nacionales | Lanzan proyecto de mejoramiento vial en zona rural de San Vicente Nota completa: https://ultimahora.sv/lanzan-proyecto-de ...', 'source': 'https://twitter.com/ultimahsv/status/1766540564437065919', 'rank': 3}, {'snippet': '#Nacionales Autoridades de la Dirección de Obras Municipales (DOM) lanzaron el proyecto de mejoramiento vial en la calle principal que conecta a los cantones El ...', 'source': 'https://m.facebook.com/story.php/?story_fbid=803232658511928&id=100064756023835', 'rank': 3}, {'snippet': '#Nacionales Autoridades de la Dirección de Obras Municipales (DOM) lanzaron el proyecto de mejoramiento vial en la calle principal que conecta a los cantones El ...', 'source': 'https://m.facebook.com/photo.php?fbid=755386743296520&set=a.478486097653254&type=3&locale=es_LA', 'rank': 3}, {'snippet': 'Autoridades de la Dirección de Obras Municipales (DOM) lanzaron el proyecto de mejoramiento vial en la calle principal que conecta a los cantones El Guayabo y ...', 'source': 'https://ultimahora.sv/category/portada/', 'rank': 3}, {'snippet': 'La Dirección de Obras Municipales (DOM) reportó que arrancó un proyecto de mejoramiento de las vías rurales del municipio de Tepetitán, ...', 'source': 'https://www.elsalvadortimes.com/articulo/servicios/inician-mejoramiento-calles-rurales-tepetitan-san-vicente/20231230103810093827.html', 'rank': 3}, {'snippet': 'El programa tiene tres componentes: la rehabilitación o mejora de caminos rurales con una inversión, valorado en $95 millones; el ...', 'source': 'https://radioyskl.com/2023/06/29/lanzan-programa-de-mejoramiento-de-calles-no-pavimentadas-de-zonas-rurales/', 'rank': 3}, {'snippet': 'Con el inicio de un proyecto de mejoramiento de vías rurales, más de 400 habitantes del caserío Joya Onda, cantón El Tortuguero, ...', 'source': 'https://www.elmetropolitanodigital.com/2024/01/extienden-programa-de-mejoramiento-de-calles-rurales-a-caserios-de-san-vicente/', 'rank': 3}, {'snippet': 'Con este programa se ejecutarán 14 proyectos viales en zonas rurales del país que beneficiarán a 22 municipios. El proyecto inició con ...', 'source': 'https://www.mop.gob.sv/mop-y-autoridades-espana-verifican-intervencion-de-calle-verapaz-jerusalen-mercedes-la-ceiba-entre-san-vicente-y-la-paz/', 'rank': 3}]\n",
            "Predicted Category: ['Fake'], Probability: 0.5\n",
            "\n",
            "\n",
            "{\n",
            "  \"times\": 8\n",
            "}\n",
            "Decision: Real\n",
            " \n",
            "Reasoning: The sources provided are reliable and from multiple platforms, including a government website and social media accounts of local authorities. The probability of the news being fake is low, as it is a specific and verifiable project being launched. The headline and news are also aligned, as they both mention the same project in the same location. Additionally, the fact that the exact headline is found in multiple media outlets could indicate that it is a legitimate news story and not part of a misinformation campaign.\n",
            "None\n"
          ]
        }
      ]
    },
    {
      "cell_type": "code",
      "source": [
        "news = \"\"\"\n",
        "El medio internacional Voz Media USA ha destacado que el Modelo Bukele está inspirando a los países de la región, siendo Argentina uno de los últimos en retomar la estrategia que el Presidente salvadoreño ejecuta en su país.\n",
        "\n",
        "«Bukele goza de una popularidad nunca vista en la región gracias a su eficiente modelo de seguridad, que funcionó tanto para reducir los homicidios en mínimos históricos como para controlar las pandillas», destaca el medio en un artículo periodístico.\n",
        "\n",
        "En Santa Fe, Argentina, las autoridades pusieron en marcha dicho modelo, donde tras un ataque a un bus con efectivos penitenciarios desató una sorpresiva requisa en la cárcel de la localidad, los internos fueron atados de sus brazos y tomaron el control del recinto.\n",
        "\n",
        "Otros países que se han inspirado en el modelo Bukele son Honduras y Ecuador, que han sido atacados por grupos criminales dejando decenas de fallecidos con el accionar en la ciudad y lugares recónditos.\n",
        "\n",
        "\n",
        "\n",
        "\"\"\"\n",
        "\n",
        "headline='El modelo Bukele inspira a la región'\n",
        "verification_process = ProcessPipeline(llm_35, news,headline,ml_pipeline)\n",
        "\n",
        "# Or, to process without using the filter agent\n",
        "result = verification_process.process_news()\n",
        "\n",
        "print(result)"
      ],
      "metadata": {
        "colab": {
          "base_uri": "https://localhost:8080/"
        },
        "id": "3geUNBwl1O7s",
        "outputId": "64c6cd0d-a16c-42c7-aea1-e933a8f04865"
      },
      "execution_count": null,
      "outputs": [
        {
          "output_type": "stream",
          "name": "stdout",
          "text": [
            "intermediate Outputs\n",
            "Classification Result: \n",
            "{\n",
            "  \"subject\": \"El modelo Bukele\",\n",
            "  \"event\": \"inspira a la región\",\n",
            "  \"topic\": \"Politics\"\n",
            "}\n",
            "Subject: El modelo Bukele, Event: inspira a la región, Topic: Politics\n",
            "El modelo Bukele inspira a la región\n",
            "{'error': 'Failed during extraction.'}\n"
          ]
        }
      ]
    },
    {
      "cell_type": "code",
      "source": [
        "llm_pred=[]\n",
        "for i in range(df_eval.shape[0]):\n",
        "  print(i)\n",
        "  verification_process = ProcessPipeline(llm_35, df_eval.loc[i,\"text\"],df_eval.loc[i,\"title\"],ml_pipeline)\n",
        "  result = verification_process.process_news()\n",
        "  print('Real label', df_eval.loc[i,'label'])\n"
      ],
      "metadata": {
        "colab": {
          "base_uri": "https://localhost:8080/"
        },
        "id": "XSQ_vDw0uB9J",
        "outputId": "7ec3772b-6b2d-40df-b421-c18deed9c753"
      },
      "execution_count": null,
      "outputs": [
        {
          "output_type": "stream",
          "name": "stdout",
          "text": [
            "0\n",
            "intermediate Outputs\n",
            "Classification Result: \n",
            "{\n",
            "  \"subject\": \"TSE en El Salvador\",\n",
            "  \"event\": \"actuación deplorable\",\n",
            "  \"topic\": \"Politics\"\n",
            "}\n",
            "Subject: TSE en El Salvador, Event: actuación deplorable, Topic: Politics\n",
            "Afirman que TSE en El Salvador tuvo actuación deplorable\n",
            "Context: [{'snippet': 'San Salvador, 7 feb (Prensa Latina) El Tribunal Supremo Electoral (TSE) de El Salvador tuvo una actuación deplorable durante las elecciones ...', 'source': 'https://www.prensa-latina.cu/2024/02/07/afirman-que-tse-en-el-salvador-tuvo-actuacion-deplorable/', 'rank': 3}, {'snippet': 'Mientras tanto el TSE está por concluir ... Relacionado. Afirman que TSE en El Salvador tuvo actuación deplorable 8 febrero, 2024 En «Destacadas».', 'source': 'https://www.elindependiente.sv/2024/02/09/prosiguen-en-el-salvador-criticas-a-proceso-de-elecciones/', 'rank': 3}, {'snippet': 'San Salvador, 7 feb (Prensa Latina) El Tribunal Supremo Electoral (TSE) de El Salvador tuvo una actuación deplorable durante las elecciones del 4 de febrero ...', 'source': 'http://spain.shafaqna.com/ES/AL/7003994', 'rank': 3}, {'snippet': 'Cuatro días después de las elecciones presidenciales y legislativas salvadoreñas, no hay resultados finales debido a numerosas fallas en el ...', 'source': 'https://www.bbc.com/mundo/articles/ckve37xg9yeo', 'rank': 3}, {'snippet': 'Los cinco suplentes del poder electoral denuncian que se han cometido acciones lejanas a la “forma legal” y “correcta” durante las ...', 'source': 'https://elpais.com/america/2024-02-12/magistrados-del-tribunal-electoral-de-el-salvador-se-desligan-del-proceso-que-dio-el-triunfo-a-bukele.html', 'rank': 3}, {'snippet': 'En tanto, la derechista Alianza Republicana Nacionalista (Arena) emitió un comunicado en el que exigió la” nulidad y repetición de los comicios” ...', 'source': 'https://apnews.com/world-news/general-news-bea09b7cf5c9ca9dca3d694ab2239162', 'rank': 3}, {'snippet': 'El Tribunal Supremo Electoral rechazó la solicitud de la oposición, mientras Nayib Bukele dijo que hubo comicios justos.', 'source': 'https://www.dw.com/es/tse-de-el-salvador-rechaza-anular-elecciones-legislativas/a-68347603', 'rank': 3}, {'snippet': 'El Tribunal Supremo Electoral (TSE) de El Salvador dijo el lunes que pidió a juntas electorales de todo el país que registren manualmente ...', 'source': 'https://cnnespanol.cnn.com/2024/02/05/el-salvador-conteo-votos-elecciones-nayib-bukele-trax/', 'rank': 3}, {'snippet': 'Elecciones2024Sv | El TSE ya tiene habilitado el sitio solo debe ser https://votacion.tse.gob.sv para que los salvadoreños con dirección en el...', 'source': 'https://www.facebook.com/photo.php?fbid=797844309049518&id=100064718677563&set=a.212368740930414&locale=es_LA', 'rank': 3}]\n",
            "Predicted Category: ['Fake'], Probability: 0.55\n",
            "\n",
            "\n",
            "\n",
            "{\n",
            "  \"times\": 9\n",
            "}\n",
            "Decision: Fake\n",
            " \n",
            "Reasoning: The sources provided are not reliable as they all come from the same date and are from the same political perspective. Additionally, the probability of the news being fake is high at 0.55. There is also a high number of times the exact headline is found in other media outlets, which could indicate a misinformation campaign. Therefore, it is likely that this news is fake and should be approached with caution.\n",
            "Real label Fake\n",
            "1\n",
            "intermediate Outputs\n",
            "Classification Result: \n",
            "{\n",
            "  \"subject\": \"electricidad que se produce en El Salvador\",\n",
            "  \"event\": \"80% de la electricidad es de fuentes renovables\",\n",
            "  \"topic\": \"Economics\"\n",
            "}\n",
            "Subject: electricidad que se produce en El Salvador, Event: 80% de la electricidad es de fuentes renovables, Topic: Economics\n",
            "80% de la electricidad que se produce en El Salvador es de fuentes renovables: CEL\n",
            "Context: [{'snippet': 'El Salvador no tiene más del 80% de su matriz energética de renovables, como dijo el presidente de CEL. Sus propios datos lo desmienten.', 'source': 'https://vozpublica.net/2024/02/13/factcheking-energia-renovable-factcheking-elsalvador-cel/', 'rank': 3}, {'snippet': 'En la entrevista de Noticiero El Salvador, Álvarez reconfirmó que en El Salvador el 80 por ciento de la energía eléctrica proviene de fuentes ...', 'source': 'https://www.noticiaslagaceta.com/el-salvador-produce-el-80-de-la-energia-electrica-por-fuentes-renovables/', 'rank': 3}, {'snippet': 'Energías renovables mantuvieron más del 80 % de generación en 2020 y la eólica inicia su participación en el mercado.', 'source': 'https://www.bnamericas.com/es/noticias/energias-renovables-mantuvieron-mas-del-80--de-generacion-en-2020-en-el-el-salvador-y-la-eolica-inicia-su-participacion-en-el-mercado', 'rank': 3}, {'snippet': 'La producción de energía desde fuentes renovables ha incrementado durante la gestión del Presidente Nayib Bukele hasta llegar a un 80 % del ...', 'source': 'https://www.presidencia.gob.sv/el-salvador-aumenta-produccion-de-energia-renovable-espera-nuevas-inversiones/', 'rank': 3}, {'snippet': 'En El Salvador, el 80 % de la electricidad que se produce en el país proviene de fuentes renovables, siendo la geotermia la mayor inyección, ...', 'source': 'https://diarioelsalvador.com/el-salvador-es-referente-internacional-en-la-expansion-de-energias-renovables/289666/', 'rank': 3}, {'snippet': 'Sector eléctrico en El Salvador ; 20% · 80% (hidroeléctrica y geotérmica) · 1,57 millones de Tm de CO2 · 702 kWh per cápita.', 'source': 'https://es.wikipedia.org/wiki/Sector_el%C3%A9ctrico_en_El_Salvador', 'rank': 3}, {'snippet': 'En la oferta nacional de energía, las renovables fueron las que más aportaron; prácticamente, cuatro de cada cinco Gw/h. Dentro de ese total, la ...', 'source': 'https://www.bnamericas.com/es/noticias/el-salvador-empresas-estatales-de-energia-reportaron-una-generacion-record-durante-2022', 'rank': 3}, {'snippet': 'La Ley General de Electricidad de 1996 que liberalizó el sector energético, también permitió al sector privado tener mayor participación en el ...', 'source': 'https://www.irena.org/-/media/Files/IRENA/Agency/Publication/2020/Dec/IRENA_RRA_El_Salvador_summary_2020_ES.pdf?rev=80ea1bab3dba4998bc3a6c6872e73fa3', 'rank': 3}, {'snippet': 'El año pasado, las principales generadoras de energía renovables fueron la hidroeléctrica, la geotérmica y la solar, ...', 'source': 'https://www.cel.gob.sv/generacion-de-energia-renovable-cerro-2022-con-cifras-record/', 'rank': 3}]\n",
            "Predicted Category: ['Fake'], Probability: 0.51\n",
            "\n",
            "\n",
            "{'times': 9}\n",
            "Error during context filtering: Expecting property name enclosed in double quotes: line 3 column 2 (char 3)\n",
            "Real label Fake\n",
            "2\n",
            "intermediate Outputs\n",
            "Classification Result: \n",
            "{\n",
            "  \"subject\": \"Bukele\",\n",
            "  \"event\": \"encarcelar a 70.000 personas en 5 años\",\n",
            "  \"topic\": \"Politics\"\n",
            "}\n",
            "Subject: Bukele, Event: encarcelar a 70.000 personas en 5 años, Topic: Politics\n",
            "El 'millennial' que salvó El Salvador: Bukele, de socio de la guerrilla a encarcelar a 70.000 personas en 5 años\n",
            "Context: [{'snippet': \"El 'millennial' que salvó El Salvador: Bukele, de socio de la guerrilla a encarcelar a 70.000 personas en 5 años. El presidente, que ha ...\", 'source': 'https://www.elespanol.com/mundo/america/20240205/millennial-salvo-salvador-bukele-socio-guerrilleros-dictador-cool/830417301_0.html', 'rank': 3}, {'snippet': \"El 'millennial' que salvó El Salvador: Bukele, de socio de la guerrilla a encarcelar a 70.000 personas en 5 años https://t.co/zDt7ywQC2b.\", 'source': 'https://twitter.com/elespanolcom/status/1754560304006971470', 'rank': 3}, {'snippet': 'El Salvador inicia un juicio masivo para procesar a 500 líderes pandilleros de la Mara Salvatrucha ... El presidente de El Salvador, Nayib Bukele. La Universidad ...', 'source': 'https://www.elespanol.com/temas/nayib_bukele/', 'rank': 3}, {'snippet': '... año por el presidente de El Salvador en plena guerra contra las pandillas. ... 70.000 personas. Ha encerrado a los jóvenes ... cinco años. La ...', 'source': 'https://elpais.com/america/2024-02-07/dentro-del-alcatraz-de-bukele-es-imposible-escapar-estos-psicopatas-van-a-pasar-la-vida-entera-entre-estas-rejas.html', 'rank': 3}, {'snippet': 'El apoyo a Bukele se basa sobre todo en la drástica reducción de homicidios que se ha registrado desde que comenzó su gobierno en el que llegó a ...', 'source': 'https://www.bbc.com/mundo/resources/idt-051ab38e-b7d2-44ce-b40f-80d5b51f7db2', 'rank': 3}, {'snippet': '... Bukele ha ganado las elecciones presidenciales de este domingo en El Salvador con gran apoyo popular a pesar de que la Constitución de su ...', 'source': 'https://www.youtube.com/watch?v=hhXaxifNrtI', 'rank': 3}, {'snippet': \"El 'millennial' que salvó El Salvador: Bukele, de socio de la guerrilla a encarcelar a 70.000 personas en 5 años. elespanol.com. 1 · Recomendar ...\", 'source': 'https://www.linkedin.com/posts/el-espa%C3%B1ol_s%C3%A1nchez-desprecia-a-vox-en-su-ronda-de-consultas-activity-7115119637905780736-430m', 'rank': 3}, {'snippet': 'Lo apodaron \"presidente millenial\", desarticuló las pandillas y ganó con ello popularidad y acusaciones de violación de derechos humanos, ...', 'source': 'https://www.bbc.com/mundo/articles/cz7k1r4knwwo', 'rank': 3}, {'snippet': \"... Bukele, el que fue socio de la guerrilla del Salvador. Al ... El 'millennial' que salvó El Salvador: Bukele, de socio de la guerrilla a encarcelar a 70.000...\", 'source': 'https://twitter.com/Lucho9719', 'rank': 3}]\n",
            "Predicted Category: ['True'], Probability: 0.47\n",
            "\n",
            "\n",
            "{\"times\": 9}\n",
            "Decision: Real\n",
            " \n",
            "Reasoning: The sources provided are reliable and reputable news outlets such as El Español, BBC, and El Pais. These sources have a high level of credibility and are known for fact-checking and providing accurate information. Additionally, the probability of the news being fake is only 0.47, which is relatively low. The headline also aligns with the information provided in the sources, as they all mention President Nayib Bukele's actions in El Salvador, including his efforts to combat gang violence and improve infrastructure. Furthermore, the fact that the exact headline is found in multiple media outlets suggests that it is not part of a misinformation campaign. Therefore, based on the reliability of sources, low probability of being fake, alignment of the headline and news, and multiple sources reporting the same information, it can be concluded that the news is real.\n",
            "Real label Fake\n",
            "3\n",
            "intermediate Outputs\n",
            "Classification Result: \n",
            "{\n",
            "  \"subject\": \"La OEA\",\n",
            "  \"event\": \"señala un 'largo camino' para que El Salvador celebre elecciones transparentes\",\n",
            "  \"topic\": \"Politics\"\n",
            "}\n",
            "Subject: La OEA, Event: señala un 'largo camino' para que El Salvador celebre elecciones transparentes, Topic: Politics\n",
            "La OEA señala un \"largo camino\" para que El Salvador celebre elecciones transparentes\n",
            "Context: [{'snippet': 'La OEA señala un “largo camino” para que El Salvador celebre elecciones transparentes ... a cabo procesos electorales eficientes y transparentes ...', 'source': 'https://www.swissinfo.ch/spa/la-oea-se%C3%B1ala-un-%22largo-camino%22-para-que-el-salvador-celebre-elecciones-transparentes/73387834', 'rank': 3}, {'snippet': 'Isabel de Saint Malo, líder de la misión de observadores, afirmó que a El Salvador aún le falta un largo camino para un proceso electoral ...', 'source': 'https://www.laprensagrafica.com/elsalvador/Informe-OEA-Los-comicios-carecen-de-una-mejor-organizacion-mas-transparencia-y-sobre-todo-mas-equidad-20240305-0081.html', 'rank': 3}, {'snippet': 'La OEA señala un «largo camino» para que El Salvador celebre elecciones transparentes ... San Salvador, 5 mar (EFE).- El Tribunal Supremo ...', 'source': 'https://vivirediciones.es/la-oea-senala-un-largo-camino-para-que-el-salvador-celebre-elecciones-transparentes/', 'rank': 3}, {'snippet': 'PARA NATHAN VAQUUZ,, OEA:\"UN LARGO CAMINO PARA QUE EL SALV. CÉLEBRE ELECCIONES TRANSPARENTE\" O SEA HUBO FRAUDE.', 'source': 'https://www.facebook.com/tv1es/videos/para-nathan-vaquuz-oeaun-largo-camino-para-que-el-salv-c%C3%A9lebre-elecciones-transp/1485548949009380/', 'rank': 3}, {'snippet': '... para elegir concejos municipales y diputados para el ... La OEA señala un \"largo camino\" para que El Salvador celebre elecciones transparentes.', 'source': 'https://www.laprensagrafica.com/elsalvador/PARLACEN-El-organismo-por-el-que-miles-de-salvadorenos-anularon-o-negaron-su-voto-por-que-se-creo-que-hace-y-que-paises-de-Centroamerica-no-estan-en-el-20240304-0011.html', 'rank': 3}, {'snippet': '... Salvador en el 2024, desde las elecciones ... La OEA señala un \"largo camino\" para que El Salvador celebre elecciones transparentes.', 'source': 'https://twitter.com/EDHNoticias/status/1765437233669243302', 'rank': 3}, {'snippet': \"Observación Electoral. La OEA señala un 'largo camino' para que El Salvador celebre elecciones transparentes · EFE ...\", 'source': 'https://www.prensa.com/tema/oea/', 'rank': 3}, {'snippet': '... a través de diversas opciones para dar rentabilidad a la publicidad pautada ya sea como: • Spots publicitarios. • Patrocinios de bloques. • Señal de hora y ...', 'source': 'https://reddelnoa.com.ar/mundiales/id-7697_La-OEA-se-ala-un-largo-camino-para-que-El-Salvador-celebre-elecciones-transparentes', 'rank': 3}, {'snippet': '... para las presidenciales de este año ... La OEA señala un \"largo camino\" para que El Salvador celebre elecciones transparentes.', 'source': 'https://es-us.noticias.yahoo.com/deportes/comunistas-venezuela-ven-farsa-acuerdo-033630276.html', 'rank': 3}, {'snippet': 'La jefa de la Misión de Observación de la Organización de los Estados Americanos MOE-OEA, Isabel de Saint Malo, señaló un \"largo camino\" para ...', 'source': 'https://twitter.com/NapoleonCampos/status/1765342117142876526', 'rank': 3}]\n",
            "Predicted Category: ['Fake'], Probability: 0.67\n",
            "\n",
            "\n",
            "\n",
            "{\n",
            "  \"times\": 10\n",
            "}\n",
            "Decision: Fake\n",
            " \n",
            "Reasoning: Based on the reliability of sources, the news Lanzan proyecto de mejoramiento vial en zona rural de San Vicente is likely to be fake. The sources used in the context are not reputable and may have a biased perspective. Additionally, the probability of the news being fake is 0.67, which is relatively high. Furthermore, there is no alignment between the headline and the news, as the news is about elections in El Salvador while the headline is about a road improvement project. Finally, the headline is found in 10 other media outlets, which could indicate a misinformation campaign. Therefore, the news is likely to be fake and should be approached with caution.\n",
            "Real label True\n",
            "4\n",
            "intermediate Outputs\n",
            "Classification Result: \n",
            "{\n",
            "  \"subject\": \"Exdiputada Lorena Peña y su hija\",\n",
            "  \"event\": \"son condenadas por enriquecimiento ilícito por más de $150,000\",\n",
            "  \"topic\": \"Politics\"\n",
            "}\n",
            "Subject: Exdiputada Lorena Peña y su hija, Event: son condenadas por enriquecimiento ilícito por más de $150,000, Topic: Politics\n",
            "Exdiputada Lorena Peña y su hija son condenadas por enriquecimiento ilícito por más de $150,000\n",
            "Context: [{'snippet': 'Lorena Peña e hija son condenadas por enriquecimiento ilícito de $150,000 · condenó a la exdiputada del FMLN, Lorena Peña y a su hija Ana ...', 'source': 'https://diario.elmundo.sv/nacionales/lorena-pena-e-hija-son-condenadas-por-enriquecimiento-ilicito-de-150000', 'rank': 3}, {'snippet': 'La exdiputada se convierte en la sexta exfuncionaria de los gobiernos del FMLN en ser condenada por enriquecimiento ilícito y en el 2024 es la ...', 'source': 'https://diarioelsalvador.com/exdiputada-lorena-pena-y-su-hija-son-condenadas-por-enriquecimiento-ilicito-por-mas-de-150000/472404/', 'rank': 3}, {'snippet': 'Condenan a exdiputada Lorena Peña y a su hija a devolver al Estado más de $150,000 por enriquecimiento ilícito. La FGR asegura que la exdiputada ...', 'source': 'https://www.elsalvadortimes.com/articulo/judiciales/condenan-exdiputada-lorena-pena-hija-devolver-mas-150000-enriquecimiento-ilicito/20240306113049094671.html', 'rank': 3}, {'snippet': 'Lorena Peña e hija son condenadas por enriquecimiento ilícito de $150,000. En su resolución, los magistrados de la Cámara, dijeron que la ...', 'source': 'https://lapaztimes.com/lorena-pena-e-hija-son-condenadas-por-enriquecimiento-ilicito-de-150000/', 'rank': 3}, {'snippet': 'La justicia de El Salvador condenó el martes a la expresidenta del Congreso, Lorena Peña, y a su hija a restituir al Estado más de 150.000 ...', 'source': 'https://www.seattlepi.com/news/world/article/la-justicia-de-el-salvador-condena-por-18706050.php', 'rank': 3}, {'snippet': 'La exdiputada Lorena Peña fue condenada a restituir al Estado $133746.60 y su hija la cantidad de $17016.26. Los magistrados aseguraron que ...', 'source': 'https://www.laprensagrafica.com/elsalvador/Condenan-a-exdiputada-Lorena-Pena-y-su-hija-por-enriquecimiento-ilicito-20240305-0051.html', 'rank': 3}, {'snippet': 'DePaís Exdiputada Lorena Peña y su hija son condenadas por enriquecimiento ilícito por más de $150000 Peña y su hija no logró desvirtuar el ...', 'source': 'https://twitter.com/De_Politica_ES/status/1766267666468094354', 'rank': 3}, {'snippet': 'En cuanto a su hija, se le acusa por inconsistencias en depósitos bancarios en efectivo y pago de tarjetas de crédito por un total de $17,016.26 ...', 'source': 'https://ultimahora.sv/hallan-culpables-de-enriquecimiento-ilicito-a-lorena-pena-y-su-hija/', 'rank': 3}, {'snippet': 'San Salvador. La exdiputada del FMLN, Lorena Guadalupe Peña Mendoza, y su hija, Ana Virginia Guardado Peña, tendrán que reintegrar al Estado ...', 'source': 'https://www.fiscalia.gob.sv/fiscalia-logra-que-exdiputada-del-fmln-lorena-pena-y-su-hija-sean-obligadas-a-devolver-mas-de-150-mil-dolares-tras-ser-condenadas-por-enriquecimiento-ilicito/', 'rank': 3}, {'snippet': 'Le exdiputada del FMLN, Lorena Peña e hija son condenadas por enriquecimiento ilícito de $150000 dólares.', 'source': 'https://twitter.com/ElSalvadorNot/status/1765392538528055570', 'rank': 3}]\n",
            "Predicted Category: ['Fake'], Probability: 0.55\n",
            "\n",
            "\n",
            "{\n",
            "  \"times\": 10\n",
            "}\n",
            "Decision: Fake\n",
            " \n",
            "Reasoning: Based on the reliability of sources, the probability of the news being fake, and the alignment of the headline and news, it is likely that this news is fake. The sources used to report on the news are all from El Salvador, which could indicate a biased perspective. Additionally, the probability of the news being fake is relatively high at 0.55. Furthermore, there is a high number of times the exact headline is found in other media outlets, which could suggest a coordinated effort to spread misinformation. Therefore, it is likely that this news is fake and should be approached with caution.\n",
            "Real label True\n",
            "5\n",
            "intermediate Outputs\n",
            "Classification Result: \n",
            "{\n",
            "  \"subject\": \"Cuerpo Diplomático\",\n",
            "  \"event\": \"acreditación del segundo mandato del Presidente Bukele\",\n",
            "  \"topic\": \"Politics\"\n",
            "}\n",
            "Subject: Cuerpo Diplomático, Event: acreditación del segundo mandato del Presidente Bukele, Topic: Politics\n",
            "Cuerpo Diplomático acompañó la acreditación del segundo mandato del Presidente Bukele\n",
            "Context: [{'snippet': 'ÚltimaHora Diputada de la Bancada Cyan, Ana Figueroa, pide modificar agenda para introducir pieza de correspondencia, en la que se solicita ...', 'source': 'https://m.facebook.com/ultimahsv/posts/2947219445537228/', 'rank': 3}, {'snippet': 'Internacionales Las autoridades de Colombia en su último reporte informaron que se han registrado un total de 4881 casos positivos de ...', 'source': 'https://m.facebook.com/ultimahsv/posts/2621987228060453/', 'rank': 3}, {'snippet': 'SAN SALVADOR (AP) — El Tribunal Supremo Electoral (TSE) de El Salvador entregó el jueves las credenciales a Nayib Bukele que certifican su ...', 'source': 'https://apnews.com/world-news/general-news-12a4d13940362834213616985b1784b2', 'rank': 3}, {'snippet': 'El Tribunal Supremo Electoral (TSE) entregó este jueves, la acreditación al Presidente Nayib Bukele para su segundo mandato en El Salvador, ...', 'source': 'https://ultimahora.sv/cuerpo-diplomatico-acompano-la-acreditacion-del-segundo-mandato-del-presidente-bukele/', 'rank': 3}, {'snippet': 'El presidente de El Salvador, Nayib Bukele, se reunió con diplomáticos tras las críticas por la destitución de magistrados y el fiscal ...', 'source': 'https://cnnespanol.cnn.com/2021/05/05/bukele-diplomaticos-el-salvador-destituciones-orix/', 'rank': 3}, {'snippet': 'Nayib Bukele comenzó como publicista de un partido de izquierdas, se convirtió en alcalde y a partir de ahí rompió las reglas de la corrección ...', 'source': 'https://elfaro.net/es/202109/el_salvador/25753/Bukele-el-autoritario-cool.htm', 'rank': 3}, {'snippet': 'Nayib Armando Bukele Ortez (San Salvador, 24 de julio de 1981) es un político y empresario salvadoreño. Es presidente de la República de El Salvador desde ...', 'source': 'https://es.wikipedia.org/wiki/Nayib_Bukele', 'rank': 3}]\n",
            "Predicted Category: ['Fake'], Probability: 0.51\n",
            "\n",
            "\n",
            "{\n",
            "  \"times\": 1\n",
            "}\n",
            "Decision: Fake\n",
            " \n",
            "Reasoning: The sources provided for this news are not reliable as they are all from social media platforms and do not come from reputable news outlets. Additionally, the probability of the news being fake is high at 0.51. There is also no alignment between the headline and the news, as the news is about a road improvement project while the headline is about a political agenda. Furthermore, the exact headline is not found in any other media outlets, which could indicate a misinformation campaign. Therefore, based on these criteria, the news is likely fake.\n",
            "Real label True\n",
            "6\n",
            "intermediate Outputs\n",
            "Classification Result: \n",
            "{\n",
            "  \"subject\": \"Luis Parada\",\n",
            "  \"event\": \"propone dialogar con las pandillas\",\n",
            "  \"topic\": \"Politics\"\n",
            "}\n",
            "Subject: Luis Parada, Event: propone dialogar con las pandillas, Topic: Politics\n",
            "El candidato presidencial Luis Parada propone dialogar con las pandillas\n",
            "Context: [{'snippet': 'En el pasado, entre 2012 y 2014, los gobiernos del FMLN, avalaron una tregua con las pandillas en la que se negoció, supuestamente, una ...', 'source': 'https://diarioelsalvador.com/el-candidato-presidencial-luis-parada-propone-dialogar-con-las-pandillas/400083/', 'rank': 3}, {'snippet': 'Nación TV | El candidato presidencial Luis Parada propone dialogar con las pandillas. 366 views · 5 months ago ...more ...', 'source': 'https://www.youtube.com/watch?v=-QMkmGtF8rc', 'rank': 3}, {'snippet': 'Lo que llevó la paz a El Salvador es un pacto corrupto con las pandillas. Luis Parada. Decidimos que era necesario participar porque hay que ...', 'source': 'https://legrandcontinent.eu/es/2024/02/04/en-el-salvador-la-gente-tiene-miedo-una-conversacion-con-el-candidato-presidencial-de-la-oposicion-salvadorena-luis-parada-1/', 'rank': 3}, {'snippet': '... Luis Parada, de Nuestro Tiempo, consideraba negociar con las pandillas de ... Falso: Candidato a la Presidencia ... conversar con las pandillas. “Si ...', 'source': 'https://vozpublica.net/2023/09/15/falso-candidato-a-la-presidencia-ha-dicho-que-negociara-con-pandillas/', 'rank': 3}, {'snippet': 'Luis Parada propone dialogar con las pandillas. Luis Parada propone dialogar con las pandillas. Mauri Guevara and 102 others. 2.3K Views · \\U000f0925 ...', 'source': 'https://m.facebook.com/PorunNuevoElSalvador/videos/655338356558421/', 'rank': 3}, {'snippet': 'Nación TV | El candidato presidencial Luis Parada propone dialogar con las pandillas. 267 views. 3 months ago · 2:59 · Nación TV | Pandilleros han abandonado ...', 'source': 'https://www.youtube.com/channel/UChy23Z3MWKYKxnC8YikcCHQ/videos', 'rank': 3}, {'snippet': 'CANDIDATO LUIS PARADA INSISTE QUE PARA \"GOBERNAR\" HAY QUE DIALOGAR CON LAS PANDILLAS El candidato presidencial del partido NUESTRO TIEMPO, ...', 'source': 'https://twitter.com/alertanoti/status/1735649534405935222', 'rank': 3}, {'snippet': 'En la del 2021 también hubo un pacto con pandillas, mediante el cual todos los pandilleros, sus familiares y sus allegados votaron por el ...', 'source': 'https://www.laprensagrafica.com/elsalvador/Si-toda-esa-gente-que-esta-en-contra-sale-a-votar-le-damos-vuelta-a-esto-completamente-20240128-0060.html', 'rank': 3}]\n",
            "Predicted Category: ['Fake'], Probability: 0.5\n",
            "\n",
            "\n",
            "{\n",
            "  \"times\": 8\n",
            "}\n",
            "Decision: Fake\n",
            " \n",
            "Reasoning: The sources provided are not reliable as they all come from the same political party, Nuestro Tiempo, and their candidate Luis Parada. This could indicate a biased and potentially false narrative being pushed by the party. Additionally, the probability of the news being fake is 0.5, which is a significant indication of potential misinformation. Furthermore, the headline and news do not align as the headline mentions a road improvement project while the news focuses on a potential negotiation with gangs. Finally, the fact that the exact headline is found in 8 other media outlets could suggest a coordinated effort to spread false information. Overall, the sources, probability, alignment, and repetition of the headline in other outlets all point to this news being fake.\n",
            "Real label Fake\n",
            "7\n",
            "intermediate Outputs\n",
            "Classification Result: \n",
            "{\n",
            "  \"subject\": \"Aerolínea alemana Lufthansa\",\n",
            "  \"event\": \"interesada en nuevo aeropuerto para El Salvador\",\n",
            "  \"topic\": \"Economics\"\n",
            "}\n",
            "Subject: Aerolínea alemana Lufthansa, Event: interesada en nuevo aeropuerto para El Salvador, Topic: Economics\n",
            "Aerolínea alemana Lufthansa interesada en nuevo aeropuerto para El Salvador\n",
            "Context: [{'snippet': 'Nacionales Aerolínea alemana Lufthansa interesada en nuevo aeropuerto para El Salvador https://t.co/GSM22tG3vf.', 'source': 'https://twitter.com/ultimahsv/status/1058857006596083715?lang=en', 'rank': 3}, {'snippet': 'Nacionales La aerolínea alemana Lufthansa está interesada mostró interesada en la propuesta del candidato presidencial de NUEVAS IDEAS, ...', 'source': 'https://m.facebook.com/1524382234487630/posts/2194649324127581/', 'rank': 3}, {'snippet': 'Última Hora publicó una nota titulada: “Aerolínea alemana Lufthansa interesada en nuevo aeropuerto para El Salvador” . Eran cuatro párrafos ...', 'source': 'https://www.revistafactum.com/bola-de-nieve-lufthansa/', 'rank': 3}, {'snippet': 'Lufthansa, la aerolínea más importante de Alemania, interesada en nuevo aeropuerto de El Salvador · La propuesta de Bukele de construir nuevo ...', 'source': 'https://mail.porttada.com/lufthansa-la-aerolinea-mas-importante-de-alemania-interesada-en-nuevo-aeropuerto-de-el-salvador', 'rank': 3}, {'snippet': 'Lufthansa, la aerolínea estatal de Alemania, está interesada en el nuevo aeropuerto para El Salvador.', 'source': 'http://www.salvadorenosporelmundo.net/2018/11/alemania-se-interesa-por-el-posible.html', 'rank': 3}, {'snippet': '“Los ejecutivos de Munich Airport nos manifestaron que ven con mucho interés la construcción de un nuevo aeropuerto en El Salvador. ¡Las nuevas ...', 'source': 'https://lapagina.com.sv/nacionales/bukele-se-reune-con-ejecutivos-de-lufthansa-para-exponer-proyecto-de-aeropuerto-en-la-union/', 'rank': 3}, {'snippet': 'CENTROAMERICA #ELSALVADOR La aerolínea alemana Lufthansa se mostró interesada en la propuesta del candidato presidencial de NUEVAS IDEAS, ...', 'source': 'https://www.facebook.com/jorgeeduardogavarrete/photos/a.443006689417695/707346656317029/?type=3', 'rank': 3}, {'snippet': 'Munich Airport está interesado en operar el nuevo aeropuerto que construiremos en La Unión. ¡Las nuevas ideas son invencibles!», escribió Bukele ...', 'source': 'https://ultimahora.sv/bukele-visita-aeropuerto-de-munich-hub-de-lufthansa-interesada-en-operar-el-de-la-union/', 'rank': 3}, {'snippet': 'Lufthansa, la aerolínea más importante de Alemania, interesada en nuevo aeropuerto de El Salvador. --> https://t.co/WxP4Q4KLMX.', 'source': 'https://twitter.com/porttada/status/1058886606088822786', 'rank': 3}]\n",
            "Predicted Category: ['True'], Probability: 0.46\n",
            "\n",
            "\n",
            "{\n",
            "    \"times\": 9\n",
            "}\n",
            "Decision: Fake\n",
            " \n",
            "Reasoning: The news is likely fake based on the low reliability of sources. While there are multiple sources reporting on the interest of Lufthansa in a new airport for El Salvador, most of these sources are social media posts or personal blogs, which are not considered reliable sources of news. Additionally, the probability of the news being fake is relatively high at 0.46. Furthermore, the alignment of the headline and the news is not strong, as the headline is about a road improvement project in San Vicente, while the news is about a potential new airport. Finally, the fact that the exact headline is found in multiple other media outlets could indicate a coordinated misinformation campaign. Overall, the evidence suggests that the news is likely fake.\n",
            "Real label Fake\n",
            "8\n",
            "intermediate Outputs\n",
            "Classification Result: \n",
            "{\n",
            "  \"subject\": \"Milagro Navas\",\n",
            "  \"event\": \"reemplazará a Carmen Aída Lazo\",\n",
            "  \"topic\": \"Politics\"\n",
            "}\n",
            "Subject: Milagro Navas, Event: reemplazará a Carmen Aída Lazo, Topic: Politics\n",
            "¿Milagro Navas reemplazará a Carmen Aída Lazo?\n",
            "Real label Fake\n",
            "9\n",
            "intermediate Outputs\n",
            "Classification Result: \n",
            "{\n",
            "  \"subject\": \"Más de 31,000 firmas de las bases de ARENA\",\n",
            "  \"event\": \"destituir a Carmen Aída Lazo\",\n",
            "  \"topic\": \"Politics\"\n",
            "}\n",
            "Subject: Más de 31,000 firmas de las bases de ARENA, Event: destituir a Carmen Aída Lazo, Topic: Politics\n",
            "Más de 31,000 firmas de las bases de ARENA para destituir a Carmen Aída Lazo\n",
            "Real label Fake\n",
            "10\n",
            "intermediate Outputs\n",
            "Classification Result: \n",
            "{\n",
            "  \"subject\": \"Pacto de Bukele con pandillas\",\n",
            "  \"event\": \"persecución de un exministro que supo cómo se preparó la negociación\",\n",
            "  \"topic\": \"Politics\"\n",
            "}\n",
            "Subject: Pacto de Bukele con pandillas, Event: persecución de un exministro que supo cómo se preparó la negociación, Topic: Politics\n",
            "Pacto de Bukele con pandillas incluyó persecución de un exministro que supo cómo se preparó la negociación\n",
            "Real label Fake\n",
            "11\n",
            "intermediate Outputs\n",
            "Classification Result: \n",
            "{\n",
            "  \"subject\": \"El FMLN\",\n",
            "  \"event\": \"está pidiendo información a países como Chile, Ecuador y Japón, antes de su salida del gobierno\",\n",
            "  \"topic\": \"Politics\"\n",
            "}\n",
            "Subject: El FMLN, Event: está pidiendo información a países como Chile, Ecuador y Japón, antes de su salida del gobierno, Topic: Politics\n",
            "El FMLN está pidiendo información a países como Chile, Ecuador y Japón, antes de su salida del gobierno\n",
            "Real label Fake\n",
            "12\n",
            "intermediate Outputs\n",
            "Classification Result: \n",
            "{\n",
            "  \"subject\": \"representacion de la mujer\",\n",
            "  \"event\": \"Baja en la Asamblea legislativa\",\n",
            "  \"topic\": \"Politics\"\n",
            "}\n",
            "Subject: representacion de la mujer, Event: Baja en la Asamblea legislativa, Topic: Politics\n",
            "Baja representacion de la mujer en la Asamblea legislativa\n",
            "Real label True\n",
            "13\n",
            "intermediate Outputs\n",
            "Classification Result: \n",
            "{\n",
            "  \"subject\": \"Magistrado del TSE\",\n",
            "  \"event\": \"dice que no pueden \\\"obligar\\\" a Hacienda a dar fondos a partidos de oposición\",\n",
            "  \"topic\": \"Politics\"\n",
            "}\n",
            "Subject: Magistrado del TSE, Event: dice que no pueden \"obligar\" a Hacienda a dar fondos a partidos de oposición, Topic: Politics\n",
            "Magistrado del TSE dice que no pueden \"obligar\" a Hacienda a dar fondos a partidos de oposición\n",
            "Real label Fake\n",
            "14\n",
            "intermediate Outputs\n",
            "Classification Result: \n",
            "{\n",
            "  \"subject\": \"Nuevas Ideas\",\n",
            "  \"event\": \"consigue supermayoría en la Asamblea gracias a su fórmula\",\n",
            "  \"topic\": \"Politics\"\n",
            "}\n",
            "Subject: Nuevas Ideas, Event: consigue supermayoría en la Asamblea gracias a su fórmula, Topic: Politics\n",
            "Nuevas Ideas consigue supermayoría en la Asamblea gracias a su fórmula\n",
            "Real label True\n",
            "15\n",
            "intermediate Outputs\n",
            "Classification Result: \n",
            "{\n",
            "  \"subject\": \"TSE oficializa 28 alcaldías\",\n",
            "  \"event\": \"Nuevas Ideas\",\n",
            "  \"topic\": \"Politics\"\n",
            "}\n",
            "Subject: TSE oficializa 28 alcaldías, Event: Nuevas Ideas, Topic: Politics\n",
            "TSE oficializa 28 alcaldías para Nuevas Ideas\n",
            "Real label True\n",
            "16\n",
            "intermediate Outputs\n",
            "Classification Result: \n",
            "{\n",
            "  \"subject\": \"DOM\",\n",
            "  \"event\": \"pagó catorce veces más por un terreno\",\n",
            "  \"topic\": \"Economics\"\n",
            "}\n",
            "Subject: DOM, Event: pagó catorce veces más por un terreno, Topic: Economics\n",
            "\n",
            "DOM pagó catorce veces más por un terreno\n",
            "\n",
            "Real label True\n",
            "17\n",
            "intermediate Outputs\n",
            "Classification Result: \n",
            "{\n",
            "  \"subject\": \"La Libertad Este\",\n",
            "  \"event\": \"something happened\",\n",
            "  \"topic\": \"Politics\"\n",
            "}\n",
            "Subject: La Libertad Este, Event: something happened, Topic: Politics\n",
            "¿Qué sucedió en La Libertad Este?\n",
            "Real label True\n",
            "18\n",
            "intermediate Outputs\n",
            "Classification Result: \n",
            "{\n",
            "  \"subject\": \"El modelo Bukele\",\n",
            "  \"event\": \"inspira a la región\",\n",
            "  \"topic\": \"Politics\"\n",
            "}\n",
            "Subject: El modelo Bukele, Event: inspira a la región, Topic: Politics\n",
            "Prensa internacional: El modelo Bukele inspira a la región\n",
            "Real label True\n",
            "19\n",
            "intermediate Outputs\n",
            "Classification Result: \n",
            "{\n",
            "  \"subject\": \"proyecto de mejoramiento vial\",\n",
            "  \"event\": \"lanzamiento\",\n",
            "  \"topic\": \"Economics\"\n",
            "}\n",
            "Subject: proyecto de mejoramiento vial, Event: lanzamiento, Topic: Economics\n",
            "Lanzan proyecto de mejoramiento vial en zona rural de San Vicente\n",
            "Context: [{'snippet': '#Nacionales | Lanzan proyecto de mejoramiento vial en zona rural de San Vicente Nota completa: https://ultimahora.sv/lanzan-proyecto-de ...', 'source': 'https://twitter.com/ultimahsv/status/1766540564437065919', 'rank': 3}, {'snippet': '#Nacionales Autoridades de la Dirección de Obras Municipales (DOM) lanzaron el proyecto de mejoramiento vial en la calle principal que conecta a los cantones El ...', 'source': 'https://m.facebook.com/story.php/?story_fbid=803232658511928&id=100064756023835', 'rank': 3}, {'snippet': '#Nacionales Autoridades de la Dirección de Obras Municipales (DOM) lanzaron el proyecto de mejoramiento vial en la calle principal que conecta a los cantones El ...', 'source': 'https://m.facebook.com/photo.php?fbid=755386743296520&set=a.478486097653254&type=3&locale=es_LA', 'rank': 3}, {'snippet': 'Autoridades de la Dirección de Obras Municipales (DOM) lanzaron el proyecto de mejoramiento vial en la calle principal que conecta a los cantones El Guayabo y ...', 'source': 'https://ultimahora.sv/category/portada/', 'rank': 3}, {'snippet': 'La Dirección de Obras Municipales (DOM) reportó que arrancó un proyecto de mejoramiento de las vías rurales del municipio de Tepetitán, ...', 'source': 'https://www.elsalvadortimes.com/articulo/servicios/inician-mejoramiento-calles-rurales-tepetitan-san-vicente/20231230103810093827.html', 'rank': 3}, {'snippet': 'El programa tiene tres componentes: la rehabilitación o mejora de caminos rurales con una inversión, valorado en $95 millones; el ...', 'source': 'https://radioyskl.com/2023/06/29/lanzan-programa-de-mejoramiento-de-calles-no-pavimentadas-de-zonas-rurales/', 'rank': 3}, {'snippet': 'Con el inicio de un proyecto de mejoramiento de vías rurales, más de 400 habitantes del caserío Joya Onda, cantón El Tortuguero, ...', 'source': 'https://www.elmetropolitanodigital.com/2024/01/extienden-programa-de-mejoramiento-de-calles-rurales-a-caserios-de-san-vicente/', 'rank': 3}, {'snippet': 'Con este programa se ejecutarán 14 proyectos viales en zonas rurales del país que beneficiarán a 22 municipios. El proyecto inició con ...', 'source': 'https://www.mop.gob.sv/mop-y-autoridades-espana-verifican-intervencion-de-calle-verapaz-jerusalen-mercedes-la-ceiba-entre-san-vicente-y-la-paz/', 'rank': 3}]\n",
            "Predicted Category: ['Fake'], Probability: 0.5\n",
            "\n",
            "\n",
            "{\n",
            "  \"times\": 8\n",
            "}\n",
            "Decision: Real\n",
            " \n",
            "Reasoning: The sources provided are reliable and from multiple platforms, including a government website and social media accounts of local authorities. The probability of the news being fake is low, as it is a specific and verifiable project being launched. The headline and news are also aligned, with the exact same information being reported. Additionally, the fact that the headline has been found in multiple media outlets could indicate that it is a legitimate news story and not part of a misinformation campaign.\n",
            "Real label True\n"
          ]
        }
      ]
    },
    {
      "cell_type": "code",
      "source": [
        "result"
      ],
      "metadata": {
        "colab": {
          "base_uri": "https://localhost:8080/"
        },
        "id": "bwbpHBtgxIFT",
        "outputId": "bb459d62-a527-4ff8-a707-c6ec874dcced"
      },
      "execution_count": null,
      "outputs": [
        {
          "output_type": "execute_result",
          "data": {
            "text/plain": [
              "{'error': 'Failed to filter the context.'}"
            ]
          },
          "metadata": {},
          "execution_count": 101
        }
      ]
    },
    {
      "cell_type": "markdown",
      "source": [
        "# 4.UI Testing"
      ],
      "metadata": {
        "id": "d0QVpyaBbXbH"
      }
    },
    {
      "cell_type": "code",
      "source": [
        "# Refactored Code\n",
        "\n",
        "# Imports\n",
        "import json\n",
        "import re\n",
        "import os\n",
        "import pickle\n",
        "from typing import List\n",
        "import numpy as np\n",
        "import pandas as pd\n",
        "import torch\n",
        "from sklearn.ensemble import RandomForestClassifier\n",
        "from sklearn.feature_extraction.text import TfidfVectorizer\n",
        "from sklearn.utils import resample\n",
        "\n",
        "# Constants\n",
        "OPENAI_API_KEY = os.environ.get('OPENAI_API_KEY')\n",
        "SERPER_API_KEY = os.environ.get('SERPER_API_KEY')\n",
        "\n",
        "# Mount Google Drive\n",
        "def mount_google_drive():\n",
        "    from google.colab import drive\n",
        "    drive.mount('/content/drive')\n",
        "\n",
        "# Load data\n",
        "def load_data(file_path: str) -> pd.DataFrame:\n",
        "    df = pd.read_excel(file_path)\n",
        "    return df\n",
        "\n",
        "# Preprocess text\n",
        "def preprocess_text(text: str) -> str:\n",
        "    text = re.sub(r'\\W', ' ', str(text))\n",
        "    text = text.lower()\n",
        "    text = re.sub(r'\\s+', ' ', text)\n",
        "    text = re.sub(r'\\d', ' ', text)\n",
        "    return text\n",
        "\n",
        "# Encode features\n",
        "def encode_features(X_train: List[str], X_test: List[str], max_features: int = 5000):\n",
        "    tfidf = TfidfVectorizer(max_features=max_features, preprocessor=preprocess_text)\n",
        "    X_train_enc = tfidf.fit_transform(X_train)\n",
        "    X_test_enc = tfidf.transform(X_test)\n",
        "    return X_train_enc, X_test_enc\n",
        "\n",
        "# Train model\n",
        "def train_model(X_train_enc: np.array, y_train: List[str]):\n",
        "    model = RandomForestClassifier(n_estimators=100)\n",
        "    model.fit(X_train_enc, y_train)\n",
        "    return model\n",
        "\n",
        "# Predict categories\n",
        "def predict_categories(model, headlines: List[str]) -> List[str]:\n",
        "    predicted_categories = model.predict(headlines)\n",
        "    return predicted_categories\n",
        "\n",
        "# Extract information\n",
        "def info_extraction(subject: str, topic: str, length: int = 100, api_key: str = SERPER_API_KEY, min_search: int = 20):\n",
        "    # Your info_extraction logic here\n",
        "    pass\n",
        "\n",
        "# Streamlit UI\n",
        "import streamlit as st\n",
        "\n",
        "def main():\n",
        "    st.title(\"Fake News Detection\")\n",
        "\n",
        "    # Sidebar\n",
        "    st.sidebar.header(\"Settings\")\n",
        "    file_path_train = st.sidebar.text_input(\"Train Data File Path\")\n",
        "    file_path_eval = st.sidebar.text_input(\"Eval Data File Path\")\n",
        "    openai_api_key = st.sidebar.text_input(\"OpenAI API Key\")\n",
        "    serper_api_key = st.sidebar.text_input(\"Serper API Key\")\n",
        "\n",
        "    # Mount Google Drive\n",
        "    mount_google_drive()\n",
        "\n",
        "    # Load data\n",
        "    df_train = load_data(file_path_train)\n",
        "    df_eval = load_data(file_path_eval)\n",
        "\n",
        "    # Preprocessing\n",
        "    df_train.dropna(subset=['Category', 'Headline', 'Text'], inplace=True)\n",
        "    df_eval.dropna(subset=['title', 'text', 'label'], inplace=True)\n",
        "    df_train['total'] = df_train['Headline'] + ' ' + df_train['Text']\n",
        "    df_train['input'] = df_train['total'].apply(preprocess_text)\n",
        "    df_eval['label'] = df_eval['label'].replace({'Real': True})\n",
        "    df_eval['label'] = df_eval['label'].astype(str)\n",
        "    df_eval.dropna(subset=['title', 'text'], inplace=True)\n",
        "    df_eval['total'] = df_eval['title'] + ' ' + df_eval['text']\n",
        "    df_eval['input'] = df_eval['total'].apply(preprocess_text)\n",
        "\n",
        "    # Encode features\n",
        "    X_train_enc, X_test_enc = encode_features(df_train['input'].tolist(), df_eval['input'].tolist())\n",
        "\n",
        "    # Train model\n",
        "    model = train_model(X_train_enc, df_train['Category'])\n",
        "\n",
        "    # Sidebar - Input\n",
        "    st.sidebar.header(\"News Input\")\n",
        "    new_headlines_input = st.sidebar.text_area(\"Enter new headlines (one per line)\")\n",
        "\n",
        "    if st.sidebar.button(\"Predict\"):\n",
        "        # Predict categories\n",
        "        new_headlines = new_headlines_input.split(\"\\n\")\n",
        "        predicted_categories = predict_categories(model, new_headlines)\n",
        "        for headline, category in zip(new_headlines, predicted_categories):\n",
        "            st.write(f\"Headline: '{headline}', Predicted Category: {category}\")\n",
        "\n",
        "if __name__ == \"__main__\":\n",
        "    main()\n"
      ],
      "metadata": {
        "colab": {
          "base_uri": "https://localhost:8080/",
          "height": 385
        },
        "id": "VMgEKV6eCe8H",
        "outputId": "3d0115e5-a29f-4cd5-f3f3-c32cf37f86ce"
      },
      "execution_count": 3,
      "outputs": [
        {
          "output_type": "error",
          "ename": "ModuleNotFoundError",
          "evalue": "No module named 'streamlit'",
          "traceback": [
            "\u001b[0;31m---------------------------------------------------------------------------\u001b[0m",
            "\u001b[0;31mModuleNotFoundError\u001b[0m                       Traceback (most recent call last)",
            "\u001b[0;32m<ipython-input-3-85cba14d2875>\u001b[0m in \u001b[0;36m<cell line: 62>\u001b[0;34m()\u001b[0m\n\u001b[1;32m     60\u001b[0m \u001b[0;34m\u001b[0m\u001b[0m\n\u001b[1;32m     61\u001b[0m \u001b[0;31m# Streamlit UI\u001b[0m\u001b[0;34m\u001b[0m\u001b[0;34m\u001b[0m\u001b[0m\n\u001b[0;32m---> 62\u001b[0;31m \u001b[0;32mimport\u001b[0m \u001b[0mstreamlit\u001b[0m \u001b[0;32mas\u001b[0m \u001b[0mst\u001b[0m\u001b[0;34m\u001b[0m\u001b[0;34m\u001b[0m\u001b[0m\n\u001b[0m\u001b[1;32m     63\u001b[0m \u001b[0;34m\u001b[0m\u001b[0m\n\u001b[1;32m     64\u001b[0m \u001b[0;32mdef\u001b[0m \u001b[0mmain\u001b[0m\u001b[0;34m(\u001b[0m\u001b[0;34m)\u001b[0m\u001b[0;34m:\u001b[0m\u001b[0;34m\u001b[0m\u001b[0;34m\u001b[0m\u001b[0m\n",
            "\u001b[0;31mModuleNotFoundError\u001b[0m: No module named 'streamlit'",
            "",
            "\u001b[0;31m---------------------------------------------------------------------------\u001b[0;32m\nNOTE: If your import is failing due to a missing package, you can\nmanually install dependencies using either !pip or !apt.\n\nTo view examples of installing some common dependencies, click the\n\"Open Examples\" button below.\n\u001b[0;31m---------------------------------------------------------------------------\u001b[0m\n"
          ],
          "errorDetails": {
            "actions": [
              {
                "action": "open_url",
                "actionText": "Open Examples",
                "url": "/notebooks/snippets/importing_libraries.ipynb"
              }
            ]
          }
        }
      ]
    },
    {
      "cell_type": "code",
      "source": [
        "# Save into repository\n",
        "from dagshub.notebook import save_notebook\n",
        "\n",
        "save_notebook(repo=\"Omdena/IREX-El-Salvador\", path=\"task_3-model-building\")"
      ],
      "metadata": {
        "colab": {
          "base_uri": "https://localhost:8080/",
          "height": 194,
          "referenced_widgets": [
            "cc6e53726604485baad595a6cb9009fc",
            "58dd2a6a93ac4047abd5e089c98363d9"
          ]
        },
        "id": "BlC888H98QCo",
        "outputId": "c92e9b2a-346a-461b-b1bc-86a1bcc9668f"
      },
      "execution_count": null,
      "outputs": [
        {
          "output_type": "display_data",
          "data": {
            "text/plain": [
              "                                       \u001b[1m❗❗❗ AUTHORIZATION REQUIRED ❗❗❗\u001b[0m                                        \n"
            ],
            "text/html": [
              "<pre style=\"white-space:pre;overflow-x:auto;line-height:normal;font-family:Menlo,'DejaVu Sans Mono',consolas,'Courier New',monospace\">                                       <span style=\"font-weight: bold\">❗❗❗ AUTHORIZATION REQUIRED ❗❗❗</span>                                        \n",
              "</pre>\n"
            ]
          },
          "metadata": {}
        },
        {
          "output_type": "display_data",
          "data": {
            "text/plain": [
              "Output()"
            ],
            "application/vnd.jupyter.widget-view+json": {
              "version_major": 2,
              "version_minor": 0,
              "model_id": "cc6e53726604485baad595a6cb9009fc"
            }
          },
          "metadata": {}
        },
        {
          "output_type": "stream",
          "name": "stdout",
          "text": [
            "\n",
            "\n",
            "Open the following link in your browser to authorize the client:\n",
            "https://dagshub.com/login/oauth/authorize?state=2f19347b-8e4b-4a82-ab18-468ea8d44d66&client_id=32b60ba385aa7cecf24046d8195a71c07dd345d9657977863b52e7748e0f0f28&middleman_request_id=3d1f253f3caafc8b72b9914170faeb8826e4dbf5ee4abee6ae04c8af537abef2\n",
            "\n",
            "\n"
          ]
        },
        {
          "output_type": "display_data",
          "data": {
            "text/plain": [],
            "text/html": [
              "<pre style=\"white-space:pre;overflow-x:auto;line-height:normal;font-family:Menlo,'DejaVu Sans Mono',consolas,'Courier New',monospace\"></pre>\n"
            ]
          },
          "metadata": {}
        },
        {
          "output_type": "display_data",
          "data": {
            "text/plain": [
              "Uploading files \u001b[1m(\u001b[0m\u001b[1;36m1\u001b[0m\u001b[1m)\u001b[0m to \u001b[32m\"Omdena/IREX-El-Salvador\"\u001b[0m\u001b[33m...\u001b[0m\n"
            ],
            "text/html": [
              "<pre style=\"white-space:pre;overflow-x:auto;line-height:normal;font-family:Menlo,'DejaVu Sans Mono',consolas,'Courier New',monospace\">Uploading files <span style=\"font-weight: bold\">(</span><span style=\"color: #008080; text-decoration-color: #008080; font-weight: bold\">1</span><span style=\"font-weight: bold\">)</span> to <span style=\"color: #008000; text-decoration-color: #008000\">\"Omdena/IREX-El-Salvador\"</span><span style=\"color: #808000; text-decoration-color: #808000\">...</span>\n",
              "</pre>\n"
            ]
          },
          "metadata": {}
        },
        {
          "output_type": "display_data",
          "data": {
            "text/plain": [
              "Upload finished successfully!\n"
            ],
            "text/html": [
              "<pre style=\"white-space:pre;overflow-x:auto;line-height:normal;font-family:Menlo,'DejaVu Sans Mono',consolas,'Courier New',monospace\">Upload finished successfully!\n",
              "</pre>\n"
            ]
          },
          "metadata": {}
        }
      ]
    }
  ]
}